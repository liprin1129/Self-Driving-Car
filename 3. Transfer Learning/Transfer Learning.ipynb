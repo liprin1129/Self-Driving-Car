{
 "cells": [
  {
   "cell_type": "markdown",
   "metadata": {},
   "source": [
    "# Table of contents\n",
    "1. [Transfer Learning with TensorFlow](#Transfer Learning with TensorFlow)\n",
    "    1. [ImageNet Inference](#ImageNet Inference)"
   ]
  },
  {
   "cell_type": "markdown",
   "metadata": {
    "deletable": true,
    "editable": true
   },
   "source": [
    "# Transfer Learning with TensorFlow <a name='Transfer Learning with TensorFlow'></a>\n",
    "\n",
    "__Transfer learning__ is the practice of starting with a network that has already been trained, and then applying that network to your own problem.\n",
    "\n",
    "Because neural networks can often take days or even weeks to train, transfer learning (i.e. starting with a network that somebody else has already trained) can greatly shorten training time.\n",
    "\n",
    "How do we apply transfer learning? Two popular methods are __feature extraction__ and __finetuning__.\n",
    "\n",
    "1. __Feature extraction__. Take a pretrained neural network and replace the final (classification) layer with a new classification layer, or perhaps even a small feedforward network that ends with a new classification layer. During training the weights in all the pre-trained layers are frozen, so only the weights for the new layer(s) are trained. In other words, the gradient doesn't flow backwards past the first new layer.\n",
    "2. __Finetuning__. This is similar to feature extraction except the pre-trained weights aren't frozen. The network is trained end-to-end.\n",
    "\n",
    "The labs in this lesson will focus on feature extraction since it's less computationally intensive."
   ]
  },
  {
   "cell_type": "markdown",
   "metadata": {},
   "source": [
    "### 1. ImageNet Inference <a name='ImageNet Inference'></a>\n",
    "\n",
    "To start, run __imagenet_inference.py__, and verify that the network classifies the images correctly.\n",
    "\n",
    "```Python\n",
    "python imagenet_inference.py\n",
    "```\n",
    "\n",
    "The output should look similar to this:\n",
    "```Python\n",
    "Image 0\n",
    "miniature poodle: 0.389\n",
    "toy poodle: 0.223\n",
    "Bedlington terrier: 0.173\n",
    "standard poodle: 0.150\n",
    "komondor: 0.026\n",
    "\n",
    "Image 1\n",
    "weasel: 0.331\n",
    "polecat, fitch, foulmart, foumart, Mustela putorius: 0.280\n",
    "black-footed ferret, ferret, Mustela nigripes: 0.210\n",
    "mink: 0.081\n",
    "Arctic fox, white fox, Alopex lagopus: 0.027\n",
    "\n",
    "Time: 5.587 seconds\n",
    "```"
   ]
  },
  {
   "cell_type": "code",
   "execution_count": null,
   "metadata": {
    "collapsed": true
   },
   "outputs": [],
   "source": []
  },
  {
   "cell_type": "code",
   "execution_count": null,
   "metadata": {
    "collapsed": true
   },
   "outputs": [],
   "source": []
  }
 ],
 "metadata": {
  "anaconda-cloud": {},
  "kernelspec": {
   "display_name": "Python [conda root]",
   "language": "python",
   "name": "conda-root-py"
  },
  "language_info": {
   "codemirror_mode": {
    "name": "ipython",
    "version": 3
   },
   "file_extension": ".py",
   "mimetype": "text/x-python",
   "name": "python",
   "nbconvert_exporter": "python",
   "pygments_lexer": "ipython3",
   "version": "3.5.2"
  }
 },
 "nbformat": 4,
 "nbformat_minor": 2
}
