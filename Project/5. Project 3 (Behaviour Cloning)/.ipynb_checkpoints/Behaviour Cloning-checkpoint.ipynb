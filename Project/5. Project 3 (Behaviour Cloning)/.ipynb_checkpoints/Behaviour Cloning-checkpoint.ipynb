{
 "cells": [
  {
   "cell_type": "markdown",
   "metadata": {},
   "source": [
    "# 1. Data Collection Strategies\n",
    "\n",
    "### 1.1. Center Driving\n",
    "\n",
    "So that the car drives down the center of the road, it's essential to capture center lane driving. Try driving around the track various times while staying as close to the middle of the track as possible even when making turns.\n",
    "\n",
    "In the real world, the car would need to stay in a lane rather than driving down the center. But for the purposes of this project, aim for center of the road driving.\n",
    "\n",
    "<img src='Figures/Data_Collection.png' width=400>\n",
    "$$ \\text{Example of Center Lane Driving} $$\n",
    "\n",
    "Now that we have driven the simulator and know how to record data, it's time to think about collecting data that will ensure a successful model. There are a few general concepts to think about that we will later discuss in more detail:\n",
    "\n",
    "- the car should stay in the center of the road as much as possible\n",
    "- if the car veers off to the side, it should recover back to center\n",
    "- driving counter-clockwise can help the model generalize\n",
    "- flipping the images is a quick way to augment the data\n",
    "- collecting data from the second track can also help generalize the model\n",
    "- we want to avoid overfitting or underfitting when training the model\n",
    "- knowing when to stop collecting more data\n",
    "\n",
    "### 1.2. Data Visualisation\n",
    "\n",
    "If everything went correctly for recording data, we should see the following in the directory you selected:\n",
    "\n",
    "- IMG folder - this folder contains all the frames of your driving.\n",
    "- driving_log.csv - each row in this sheet correlates your image with the steering angle, throttle, brake, and speed of your car. You'll mainly be using the steering angle.\n",
    "\n",
    "<img src='Figures/driving-log-output.png' width=500>\n",
    "$$ \\text{NOTE: At 1:20 the image is actually 160 pixels high and 320 pixels wide} &&\n",
    "\n",
    "We will start by using the images as the feature set and the steering measurements as the label set. Then we'll use the images to train the network to predict the steering measurements. \n",
    "\n",
    "Stereo camera have a benefit that we can use 3 camera shots (left, centre, and right) to help us generalise the model. Effectively, we can pass these images to the network to teach the network what it looks like to be off the centre of the road, and how to steer to get back to the centre.\n",
    "\n",
    "# Training The Network\n",
    "\n",
    "Now that we have training data, its time to build and train your network!\n",
    "\n",
    "Use Keras to train a network to do the following:\n",
    "\n",
    "- Take in an image from the center camera of the car. This is the input to our neural network.\n",
    "- Output a new steering angle for the car.\n",
    "\n",
    "We don’t have to worry about the throttle for this project, that will be set for you.\n",
    "\n",
    "[Save the trained model](https://keras.io/getting-started/faq/#how-can-i-save-a-keras-model) architecture as **model.h5** using model.save('model.h5')."
   ]
  }
 ],
 "metadata": {
  "kernelspec": {
   "display_name": "Python 3",
   "language": "python",
   "name": "python3"
  },
  "language_info": {
   "codemirror_mode": {
    "name": "ipython",
    "version": 3
   },
   "file_extension": ".py",
   "mimetype": "text/x-python",
   "name": "python",
   "nbconvert_exporter": "python",
   "pygments_lexer": "ipython3",
   "version": "3.5.2"
  }
 },
 "nbformat": 4,
 "nbformat_minor": 2
}
