{
 "cells": [
  {
   "cell_type": "markdown",
   "metadata": {
    "deletable": true,
    "editable": true
   },
   "source": [
    "---\n",
    "## Step 0: Load The Data"
   ]
  },
  {
   "cell_type": "code",
   "execution_count": 1,
   "metadata": {
    "collapsed": true,
    "deletable": true,
    "editable": true
   },
   "outputs": [],
   "source": [
    "import cv2\n",
    "import numpy as np\n",
    "import pandas as pd\n",
    "from sklearn.utils import shuffle\n",
    "import tensorflow as tf\n",
    "import matplotlib.pyplot as plt\n",
    "%matplotlib inline\n",
    "import seaborn as sns\n",
    "from tqdm import tqdm\n",
    "import os\n",
    "import pickle\n",
    "import copy\n",
    "from skimage import exposure\n",
    "from PIL import Image\n",
    "from PIL import ImageOps\n",
    "from sklearn import preprocessing"
   ]
  },
  {
   "cell_type": "code",
   "execution_count": 2,
   "metadata": {
    "collapsed": true,
    "deletable": true,
    "editable": true
   },
   "outputs": [],
   "source": [
    "# TODO: Fill this in based on where you saved the training and testing data\n",
    "filePath = 'traffic-signs-data/'\n",
    "training_file = filePath+'train.p'\n",
    "validation_file= filePath+'valid.p'\n",
    "testing_file = filePath+'test.p'\n",
    "\n",
    "with open(training_file, mode='rb') as f:\n",
    "    train = pickle.load(f)\n",
    "with open(validation_file, mode='rb') as f:\n",
    "    valid = pickle.load(f)\n",
    "with open(testing_file, mode='rb') as f:\n",
    "    test = pickle.load(f)\n",
    "    \n",
    "X_train, y_train = train['features'], train['labels']\n",
    "X_valid, y_valid = valid['features'], valid['labels']\n",
    "X_test, y_test = test['features'], test['labels']"
   ]
  },
  {
   "cell_type": "markdown",
   "metadata": {
    "deletable": true,
    "editable": true
   },
   "source": [
    "---\n",
    "\n",
    "## Step 1: Dataset Summary & Exploration\n",
    "### Provide a Basic Summary of the Data Set Using Python, Numpy and/or Pandas"
   ]
  },
  {
   "cell_type": "code",
   "execution_count": 3,
   "metadata": {
    "collapsed": false,
    "deletable": true,
    "editable": true
   },
   "outputs": [
    {
     "name": "stdout",
     "output_type": "stream",
     "text": [
      "Number of training examples: x=34799, y=34799\n",
      "Number of validation examples: x=4410, y=4410\n",
      "Number of testing examples:  x=12630, y=12630\n",
      "Image data shape = (32, 32)\n",
      "Number of classes = 43\n"
     ]
    }
   ],
   "source": [
    "### Replace each question mark with the appropriate value. \n",
    "### Use python, pandas or numpy methods rather than hard coding the results\n",
    "\n",
    "# TODO: Number of training examples\n",
    "n_train = X_train.shape[0]\n",
    "\n",
    "# TODO: Number of validation examples\n",
    "n_validation = X_valid.shape[0]\n",
    "\n",
    "# TODO: Number of testing examples.\n",
    "n_test = X_test.shape[0]\n",
    "\n",
    "# TODO: What's the shape of an traffic sign image?\n",
    "image_shape = (X_train.shape[1], X_train.shape[2])\n",
    "\n",
    "# TODO: How many unique classes/labels there are in the dataset.\n",
    "labels = pd.read_csv('signnames.csv')\n",
    "n_classes = len(labels)\n",
    "\n",
    "print(\"Number of training examples: x={0}, y={1}\".format(n_train, y_train.shape[0]))\n",
    "print(\"Number of validation examples: x={0}, y={1}\".format(n_validation, y_valid.shape[0]))\n",
    "print(\"Number of testing examples:  x={0}, y={1}\".format(n_test, y_test.shape[0]))\n",
    "print(\"Image data shape =\", image_shape)\n",
    "print(\"Number of classes =\", n_classes)"
   ]
  },
  {
   "cell_type": "markdown",
   "metadata": {
    "deletable": true,
    "editable": true
   },
   "source": [
    "### Include an exploratory visualization of the dataset"
   ]
  },
  {
   "cell_type": "code",
   "execution_count": 4,
   "metadata": {
    "collapsed": false,
    "deletable": true,
    "editable": true
   },
   "outputs": [
    {
     "name": "stdout",
     "output_type": "stream",
     "text": [
      "Wall time: 6 ms\n"
     ]
    }
   ],
   "source": [
    "%%time\n",
    "y_train_df = pd.DataFrame(data=y_train, columns=['ClassId'])\n",
    "y_valid_df = pd.DataFrame(data=y_valid, columns=['ClassId'])\n",
    "y_test_df = pd.DataFrame(data=y_test, columns=['ClassId'])\n",
    "\n",
    "grouped_train_index = y_train_df.groupby('ClassId')\n",
    "grouped_valid_index = y_valid_df.groupby('ClassId')\n",
    "grouped_test_index = y_test_df.groupby('ClassId')\n",
    "\n",
    "## Get the first index images in each class\n",
    "firstTrainDataForEachClass = grouped_train_index.head(1).sort_values('ClassId').reset_index()\n",
    "#print(firstTrainDataForEachClass)"
   ]
  },
  {
   "cell_type": "markdown",
   "metadata": {
    "deletable": true,
    "editable": true
   },
   "source": [
    "----\n",
    "\n",
    "## Step 2: Design and Test a Model Architecture\n",
    "\n",
    "### Pre-process the Data Set (Self: normalization, grayscale, etc.)\n",
    "### 1. Grayscale: OpenCV, 2. Normalization: OpenCV, 3. Enhance Contrast: OpenCV, 4. so on"
   ]
  },
  {
   "cell_type": "code",
   "execution_count": 5,
   "metadata": {
    "collapsed": false,
    "deletable": true,
    "editable": true
   },
   "outputs": [],
   "source": [
    "### Preprocess the data here. It is required to normalize the data. Other preprocessing steps could include \n",
    "### converting to grayscale, etc.\n",
    "### Feel free to use as many code cells as needed.\n",
    "\n",
    "## Change to gray scale\n",
    "def colourToGrey(images):\n",
    "    gray = np.zeros([len(images), 32, 32], dtype=np.float64)\n",
    "    for idx in tqdm(range(len(images))):\n",
    "        gray[idx] = 0.299 * images[idx, :, :, 0] + 0.587 * images[idx, :, :, 1] + 0.114 * images[idx, :, :, 2]\n",
    "    return gray\n",
    "\n",
    "## Normalisation\n",
    "def normaliseGrayImages(images):\n",
    "    norm = copy.copy(images)\n",
    "    \n",
    "    for idx, img in tqdm(enumerate(images)):\n",
    "        norm[idx] = preprocessing.normalize(norm[idx], norm='l2')\n",
    "    return norm\n",
    "\n",
    "## Enhance Contrast using histogram equalization\n",
    "def enhanceContrastOfImage(img):\n",
    "    return exposure.equalize_adapthist(img)\n",
    "    '''\n",
    "    yuv_img = cv2.cvtColor(img, cv2.COLOR_RGB2YUV)\n",
    "    yuv_img[:,:,0] = cv2.equalizeHist(yuv_img[:,:,0])\n",
    "    return cv2.cvtColor(yuv_img, cv2.COLOR_YUV2RGB)\n",
    "    '''\n",
    "    '''\n",
    "    if np.mean(img) < 50:\n",
    "        brightImage = img.copy()\n",
    "        brightImage[:,:,0] = cv2.equalizeHist(img[:,:,0])\n",
    "        brightImage[:,:,1] = cv2.equalizeHist(img[:,:,1])\n",
    "        brightImage[:,:,2] = cv2.equalizeHist(img[:,:,2])\n",
    "        return brightImage\n",
    "    return img\n",
    "    '''\n",
    "\n",
    "\n",
    "def sharpenImage(img):\n",
    "    kernelOfSharpener = np.array([[-1,-1,-1,-1,-1], \n",
    "                                 [-1,2,2,2,-1], \n",
    "                                 [-1,2,8,2,-1],\n",
    "                                 [-1,2,2,2,-1],\n",
    "                                 [-1,-1,-1,-1,-1]]) / 8.0\n",
    "    return cv2.filter2D(img, -1, kernelOfSharpener)\n",
    "\n",
    "def affineTransformation(img):\n",
    "    row, column = X_train[8000].shape[:2]\n",
    "    sourcePoints = np.float32([[0, 0], [column-1, 0], [0, row-1]])\n",
    "\n",
    "    destinationPoints = np.float32([[np.random.uniform(low=0., high=0.2, size=1)[0]*(row-1), np.random.uniform(low=0., high=0.2, size=1)[0]*(column-1)], \n",
    "                                    [np.random.uniform(low=0.7, high=1, size=1)[0]*(row-1), np.random.uniform(low=0., high=0.2, size=1)[0]*(column-1)], \n",
    "                                    [np.random.uniform(low=0., high=0.2, size=1)[0]*(row-1), np.random.uniform(low=0.7, high=1, size=1)[0]*(column-1)]])\n",
    "\n",
    "    affine_matrix = cv2.getAffineTransform(sourcePoints, destinationPoints)\n",
    "    #img_output = cv2.warpAffine(X_train[8000], affine_matrix, (row, column))\n",
    "    \n",
    "    return cv2.warpAffine(img, affine_matrix, (row, column))\n",
    "\n",
    "def translateImageWithRandomDistance(img):\n",
    "    row, column = img.shape[:2]\n",
    "    matrixForTranslation = np.array([ [1, 0, np.random.randint(low=-5, high=5)], [0, 1, np.random.randint(low=-5, high=5)] ], dtype=float)\n",
    "    translatedImage = cv2.warpAffine(img, matrixForTranslation, (row, column))\n",
    "    return translatedImage\n",
    "\n",
    "def rotateImageWithRandomAngle(img):\n",
    "    row, column = img.shape[:2]\n",
    "    matrixForRotation = cv2.getRotationMatrix2D((column/2, row/2), np.random.randint(low=-35, high=35), 1)\n",
    "    rotatedImage = cv2.warpAffine(img, matrixForRotation, (row, column))\n",
    "    return rotatedImage\n",
    "\n",
    "def makeBallanceBetweenClasses(grouped_y_index=None, xData=None, yData=None):\n",
    "    ## balance the number of samples in classes\n",
    "    maxSampleNumbersAmongClasses = max(grouped_y_index.size())\n",
    "    argmaxSampleNumbersAmongClasses = np.argmax(grouped_y_index.size())\n",
    "\n",
    "    for class_idx, value in tqdm(grouped_y_index.groups.items()):\n",
    "        '''\n",
    "        if class_idx>1:\n",
    "            break\n",
    "        '''\n",
    "        necessaryNum = maxSampleNumbersAmongClasses - len(value)\n",
    "        randomImgInAClass = xData[np.random.choice(grouped_y_index.groups[class_idx].values, necessaryNum)]\n",
    "\n",
    "        augmented_y = np.ones(necessaryNum) * class_idx\n",
    "\n",
    "        for idx, img in enumerate(randomImgInAClass):\n",
    "            randomImgInAClass[idx] = transAndRotate(img)\n",
    "            #randomImgInAClass[idx] = transAndRotate(colourToGrey(img))\n",
    "        xData = np.vstack([xData, randomImgInAClass])\n",
    "        yData = np.append(yData, augmented_y)\n",
    "        \n",
    "    return xData, yData\n",
    "\n",
    "def transAndRotate(img):\n",
    "    switch = np.random.choice(('affine', 'rotate', 'translate', 'rotate+translate'), size=1)[0] # choose one among three strings\n",
    "    #print(switch)\n",
    "    if switch == 'affine':\n",
    "        return affineTransformation(img)\n",
    "    if switch == 'rotate':\n",
    "        return rotateImageWithRandomAngle(img)\n",
    "    if switch == 'translate':\n",
    "        return translateImageWithRandomDistance(img)\n",
    "    if switch == 'rotate+translate':\n",
    "        return translateImageWithRandomDistance(img)"
   ]
  },
  {
   "cell_type": "code",
   "execution_count": 6,
   "metadata": {
    "collapsed": true,
    "deletable": true,
    "editable": true
   },
   "outputs": [],
   "source": [
    "def saveToPickle(data, file_name=None, folder_path=None):\n",
    "    if not os.path.isdir(folder_path):\n",
    "        #print(\"Create \\\"preprocessed-data\\\" folder\")\n",
    "        os.mkdir(folder_path)\n",
    "    else:\n",
    "        print(\"\\\"preprocessed-data\\\" folder already exist\")\n",
    "\n",
    "    file_name = folder_path + file_name\n",
    "    if not os.path.exists(file_name):\n",
    "        try:\n",
    "            with open(file_name, 'wb') as f:\n",
    "                pickle.dump(data, f, pickle.HIGHEST_PROTOCOL)\n",
    "                print(\"Create\", file_name)\n",
    "        except Exception as e:\n",
    "            print('Error: unable to save data to', file_name, 'because', e)\n",
    "            \n",
    "def loadPickle(file_name=None, folder_path=None):\n",
    "    file = folder_path + file_name\n",
    "    #print('Load')\n",
    "    if os.path.exists(file):\n",
    "        try:\n",
    "            with open(file, 'rb') as f:\n",
    "                return pickle.load(f)\n",
    "                print(\"Open\", file)\n",
    "        except Exception as e:\n",
    "            print('Error: unable to open data to', file, 'because', e)"
   ]
  },
  {
   "cell_type": "markdown",
   "metadata": {
    "deletable": true,
    "editable": true
   },
   "source": [
    "#### Colour to Gray"
   ]
  },
  {
   "cell_type": "code",
   "execution_count": 7,
   "metadata": {
    "collapsed": false,
    "deletable": true,
    "editable": true
   },
   "outputs": [
    {
     "name": "stderr",
     "output_type": "stream",
     "text": [
      "100%|█████████████████████████████████| 34799/34799 [00:00<00:00, 65907.18it/s]\n",
      "100%|███████████████████████████████████| 4410/4410 [00:00<00:00, 67846.09it/s]\n",
      "100%|█████████████████████████████████| 12630/12630 [00:00<00:00, 69016.36it/s]\n"
     ]
    }
   ],
   "source": [
    "# colour to gray\n",
    "augmented_X_train = colourToGrey(X_train)\n",
    "augmented_X_valid = colourToGrey(X_valid)\n",
    "augmented_X_test = colourToGrey(X_test)"
   ]
  },
  {
   "cell_type": "code",
   "execution_count": 8,
   "metadata": {
    "collapsed": false,
    "deletable": true,
    "editable": true
   },
   "outputs": [
    {
     "data": {
      "text/plain": [
       "<matplotlib.image.AxesImage at 0xe19c7b8>"
      ]
     },
     "execution_count": 8,
     "metadata": {},
     "output_type": "execute_result"
    },
    {
     "data": {
      "image/png": "[encoded data removed]",
      "text/plain": [
       "<matplotlib.figure.Figure at 0x4857400>"
      ]
     },
     "metadata": {},
     "output_type": "display_data"
    }
   ],
   "source": [
    "plt.imshow(augmented_X_train[7809], cmap='gray')"
   ]
  },
  {
   "cell_type": "markdown",
   "metadata": {
    "deletable": true,
    "editable": true
   },
   "source": [
    "#### Sharpen"
   ]
  },
  {
   "cell_type": "code",
   "execution_count": 9,
   "metadata": {
    "collapsed": true,
    "deletable": true,
    "editable": true
   },
   "outputs": [],
   "source": [
    "augmented_X_train = sharpenImage(augmented_X_train)\n",
    "augmented_X_valid = sharpenImage(augmented_X_valid)\n",
    "augmented_X_test = sharpenImage(augmented_X_test)"
   ]
  },
  {
   "cell_type": "code",
   "execution_count": 10,
   "metadata": {
    "collapsed": false,
    "deletable": true,
    "editable": true
   },
   "outputs": [
    {
     "data": {
      "text/plain": [
       "<matplotlib.image.AxesImage at 0xe464080>"
      ]
     },
     "execution_count": 10,
     "metadata": {},
     "output_type": "execute_result"
    },
    {
     "data": {
      "image/png": "[encoded data removed]",
      "text/plain": [
       "<matplotlib.figure.Figure at 0xdf485f8>"
      ]
     },
     "metadata": {},
     "output_type": "display_data"
    }
   ],
   "source": [
    "plt.imshow(augmented_X_train[7809], cmap='gray')"
   ]
  },
  {
   "cell_type": "markdown",
   "metadata": {
    "deletable": true,
    "editable": true
   },
   "source": [
    "### Normalisation: OpenCV"
   ]
  },
  {
   "cell_type": "code",
   "execution_count": 11,
   "metadata": {
    "collapsed": false,
    "deletable": true,
    "editable": true
   },
   "outputs": [
    {
     "name": "stderr",
     "output_type": "stream",
     "text": [
      "34799it [00:01, 28109.04it/s]\n",
      "4410it [00:00, 27222.23it/s]\n",
      "12630it [00:00, 28255.03it/s]\n"
     ]
    }
   ],
   "source": [
    "# normalisation\n",
    "augmented_X_train = normaliseGrayImages(augmented_X_train)\n",
    "augmented_X_valid = normaliseGrayImages(augmented_X_valid)\n",
    "augmented_X_test = normaliseGrayImages(augmented_X_test)"
   ]
  },
  {
   "cell_type": "code",
   "execution_count": 12,
   "metadata": {
    "collapsed": false,
    "deletable": true,
    "editable": true
   },
   "outputs": [
    {
     "data": {
      "text/plain": [
       "<matplotlib.image.AxesImage at 0xe4d8898>"
      ]
     },
     "execution_count": 12,
     "metadata": {},
     "output_type": "execute_result"
    },
    {
     "data": {
      "image/png": "[encoded data removed]",
      "text/plain": [
       "<matplotlib.figure.Figure at 0xe19cf28>"
      ]
     },
     "metadata": {},
     "output_type": "display_data"
    }
   ],
   "source": [
    "plt.imshow(augmented_X_train[7809], cmap='gray')"
   ]
  },
  {
   "cell_type": "markdown",
   "metadata": {
    "deletable": true,
    "editable": true
   },
   "source": [
    "#### Enhance Contrast: OpenCV histogram equlization"
   ]
  },
  {
   "cell_type": "code",
   "execution_count": 13,
   "metadata": {
    "collapsed": false,
    "deletable": true,
    "editable": true
   },
   "outputs": [
    {
     "name": "stderr",
     "output_type": "stream",
     "text": [
      "  0%|                                                | 0/34799 [00:00<?, ?it/s]C:\\Users\\gang.3DMEDIA\\AppData\\Local\\Continuum\\Anaconda3\\envs\\py35TensorFlow\\lib\\site-packages\\skimage\\util\\dtype.py:110: UserWarning: Possible precision loss when converting from float64 to uint16\n",
      "  \"%s to %s\" % (dtypeobj_in, dtypeobj))\n",
      " 19%|██████▉                             | 6652/34799 [00:49<03:23, 138.09it/s]C:\\Users\\gang.3DMEDIA\\AppData\\Local\\Continuum\\Anaconda3\\envs\\py35TensorFlow\\lib\\site-packages\\skimage\\exposure\\exposure.py:307: RuntimeWarning: invalid value encountered in true_divide\n",
      "  image = (image - imin) / float(imax - imin)\n",
      "100%|███████████████████████████████████| 34799/34799 [04:17<00:00, 135.24it/s]\n",
      "100%|█████████████████████████████████████| 4410/4410 [00:31<00:00, 137.87it/s]\n",
      "100%|███████████████████████████████████| 12630/12630 [01:32<00:00, 136.99it/s]\n"
     ]
    }
   ],
   "source": [
    "for idx in tqdm(range(augmented_X_train.shape[0])):\n",
    "    augmented_X_train[idx] = enhanceContrastOfImage(augmented_X_train[idx])\n",
    "\n",
    "for idx in tqdm(range(augmented_X_valid.shape[0])):\n",
    "    augmented_X_valid[idx] = enhanceContrastOfImage(augmented_X_valid[idx])\n",
    "\n",
    "for idx in tqdm(range(augmented_X_test.shape[0])):\n",
    "    augmented_X_test[idx] = enhanceContrastOfImage(augmented_X_test[idx])"
   ]
  },
  {
   "cell_type": "code",
   "execution_count": 14,
   "metadata": {
    "collapsed": false,
    "deletable": true,
    "editable": true
   },
   "outputs": [
    {
     "data": {
      "text/plain": [
       "<matplotlib.image.AxesImage at 0xe1b5a20>"
      ]
     },
     "execution_count": 14,
     "metadata": {},
     "output_type": "execute_result"
    },
    {
     "data": {
      "image/png": "[encoded data removed]",
      "text/plain": [
       "<matplotlib.figure.Figure at 0xe4349b0>"
      ]
     },
     "metadata": {},
     "output_type": "display_data"
    }
   ],
   "source": [
    "plt.imshow(augmented_X_train[7809], cmap='gray')"
   ]
  },
  {
   "cell_type": "markdown",
   "metadata": {
    "deletable": true,
    "editable": true
   },
   "source": [
    "#### Augmentation and Transformation"
   ]
  },
  {
   "cell_type": "code",
   "execution_count": 15,
   "metadata": {
    "collapsed": false,
    "deletable": true,
    "editable": true
   },
   "outputs": [
    {
     "name": "stderr",
     "output_type": "stream",
     "text": [
      "100%|██████████████████████████████████████████| 43/43 [00:09<00:00,  3.12it/s]\n",
      "100%|██████████████████████████████████████████| 43/43 [00:01<00:00, 36.20it/s]\n",
      "100%|██████████████████████████████████████████| 43/43 [00:03<00:00,  8.29it/s]\n"
     ]
    }
   ],
   "source": [
    "augmented_X_train, augmented_y_train = makeBallanceBetweenClasses(grouped_train_index, augmented_X_train, y_train)\n",
    "augmented_X_valid, augmented_y_valid = makeBallanceBetweenClasses(grouped_valid_index, augmented_X_valid, y_valid)\n",
    "augmented_X_test, augmented_y_test = makeBallanceBetweenClasses(grouped_test_index, augmented_X_test, y_test)"
   ]
  },
  {
   "cell_type": "code",
   "execution_count": 16,
   "metadata": {
    "collapsed": false,
    "deletable": true,
    "editable": true
   },
   "outputs": [
    {
     "name": "stdout",
     "output_type": "stream",
     "text": [
      "\"preprocessed-data\" folder already exist\n",
      "Create ./preprocessed-data/augmented_X_train.p\n",
      "\"preprocessed-data\" folder already exist\n",
      "Create ./preprocessed-data/augmented_y_train.p\n",
      "\"preprocessed-data\" folder already exist\n",
      "Create ./preprocessed-data/augmented_X_valid.p\n",
      "\"preprocessed-data\" folder already exist\n",
      "Create ./preprocessed-data/augmented_y_valid.p\n",
      "\"preprocessed-data\" folder already exist\n",
      "Create ./preprocessed-data/augmented_X_test.p\n",
      "\"preprocessed-data\" folder already exist\n",
      "Create ./preprocessed-data/augmented_y_test.p\n"
     ]
    }
   ],
   "source": [
    "saveToPickle(augmented_X_train, file_name='augmented_X_train.p', folder_path=\"./preprocessed-data/\")\n",
    "saveToPickle(augmented_y_train, file_name='augmented_y_train.p', folder_path=\"./preprocessed-data/\")\n",
    "\n",
    "saveToPickle(augmented_X_valid, file_name='augmented_X_valid.p', folder_path=\"./preprocessed-data/\")\n",
    "saveToPickle(augmented_y_valid, file_name='augmented_y_valid.p', folder_path=\"./preprocessed-data/\")\n",
    "\n",
    "saveToPickle(augmented_X_test, file_name='augmented_X_test.p', folder_path=\"./preprocessed-data/\")\n",
    "saveToPickle(augmented_y_test, file_name='augmented_y_test.p', folder_path=\"./preprocessed-data/\")"
   ]
  },
  {
   "cell_type": "code",
   "execution_count": 17,
   "metadata": {
    "collapsed": false
   },
   "outputs": [
    {
     "data": {
      "text/plain": [
       "(86430, 32, 32)"
      ]
     },
     "execution_count": 17,
     "metadata": {},
     "output_type": "execute_result"
    }
   ],
   "source": [
    "np.shape(augmented_X_train)"
   ]
  },
  {
   "cell_type": "markdown",
   "metadata": {
    "deletable": true,
    "editable": true
   },
   "source": [
    "#### Load Data"
   ]
  },
  {
   "cell_type": "raw",
   "metadata": {
    "collapsed": true,
    "deletable": true,
    "editable": true
   },
   "source": [
    "augmented_X_train = loadPickle(file_name='augmented_X_train.p', folder_path='./preprocessed-data/')\n",
    "augmented_y_train = loadPickle(file_name='augmented_y_train.p', folder_path='./preprocessed-data/')\n",
    "\n",
    "augmented_X_valid = loadPickle(file_name='augmented_X_valid.p', folder_path='./preprocessed-data/')\n",
    "augmented_y_valid = loadPickle(file_name='augmented_y_valid.p', folder_path='./preprocessed-data/')\n",
    "\n",
    "augmented_X_test = loadPickle(file_name='augmented_X_test.p', folder_path='./preprocessed-data/')\n",
    "augmented_y_test = loadPickle(file_name='augmented_y_test.p', folder_path='./preprocessed-data/')\n",
    "\n",
    "print('The shape of the loaded processed X train dataset:', augmented_X_train.shape)\n",
    "print('The shape of the loaded processed y train dataset:', augmented_y_train.shape)\n",
    "\n",
    "print('The shape of the loaded processed X valid dataset:', augmented_X_valid.shape)\n",
    "print('The shape of the loaded processed y valid dataset:', augmented_y_valid.shape)\n",
    "\n",
    "print('The shape of the loaded processed X test dataset:', augmented_X_test.shape)\n",
    "print('The shape of the loaded processed y test dataset:', augmented_y_test.shape)"
   ]
  }
 ],
 "metadata": {
  "anaconda-cloud": {},
  "kernelspec": {
   "display_name": "Python 3",
   "language": "python",
   "name": "python3"
  },
  "language_info": {
   "codemirror_mode": {
    "name": "ipython",
    "version": 3
   },
   "file_extension": ".py",
   "mimetype": "text/x-python",
   "name": "python",
   "nbconvert_exporter": "python",
   "pygments_lexer": "ipython3",
   "version": "3.5.2"
  }
 },
 "nbformat": 4,
 "nbformat_minor": 2
}
