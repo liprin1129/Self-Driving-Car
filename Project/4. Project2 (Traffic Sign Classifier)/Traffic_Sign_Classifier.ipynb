{
 "cells": [
  {
   "cell_type": "markdown",
   "metadata": {
    "deletable": true,
    "editable": true
   },
   "source": [
    "# Self-Driving Car Engineer Nanodegree\n",
    "\n",
    "## Deep Learning\n",
    "\n",
    "## Project: Build a Traffic Sign Recognition Classifier\n",
    "\n",
    "In this notebook, a template is provided for you to implement your functionality in stages, which is required to successfully complete this project. If additional code is required that cannot be included in the notebook, be sure that the Python code is successfully imported and included in your submission if necessary. \n",
    "\n",
    "> **Note**: Once you have completed all of the code implementations, you need to finalize your work by exporting the iPython Notebook as an HTML document. Before exporting the notebook to html, all of the code cells need to have been run so that reviewers can see the final implementation and output. You can then export the notebook by using the menu above and navigating to  \\n\",\n",
    "    \"**File -> Download as -> HTML (.html)**. Include the finished document along with this notebook as your submission. \n",
    "\n",
    "In addition to implementing code, there is a writeup to complete. The writeup should be completed in a separate file, which can be either a markdown file or a pdf document. There is a [write up template](https://github.com/udacity/CarND-Traffic-Sign-Classifier-Project/blob/master/writeup_template.md) that can be used to guide the writing process. Completing the code template and writeup template will cover all of the [rubric points](https://review.udacity.com/#!/rubrics/481/view) for this project.\n",
    "\n",
    "The [rubric](https://review.udacity.com/#!/rubrics/481/view) contains \"Stand Out Suggestions\" for enhancing the project beyond the minimum requirements. The stand out suggestions are optional. If you decide to pursue the \"stand out suggestions\", you can include the code in this Ipython notebook and also discuss the results in the writeup file.\n",
    "\n",
    "\n",
    ">**Note:** Code and Markdown cells can be executed using the **Shift + Enter** keyboard shortcut. In addition, Markdown cells can be edited by typically double-clicking the cell to enter edit mode."
   ]
  },
  {
   "cell_type": "markdown",
   "metadata": {
    "deletable": true,
    "editable": true
   },
   "source": [
    "---\n",
    "## Step 0: Load The Data"
   ]
  },
  {
   "cell_type": "code",
   "execution_count": 1,
   "metadata": {
    "collapsed": false,
    "deletable": true,
    "editable": true
   },
   "outputs": [],
   "source": [
    "import cv2\n",
    "import numpy as np\n",
    "import pandas as pd\n",
    "from sklearn.utils import shuffle\n",
    "import tensorflow as tf\n",
    "import matplotlib.pyplot as plt\n",
    "%matplotlib inline\n",
    "import seaborn as sns\n",
    "from tqdm import tqdm\n",
    "import os\n",
    "import pickle\n",
    "import copy\n",
    "from PIL import Image\n",
    "from skimage import exposure\n",
    "from tensorflow.contrib.layers import flatten"
   ]
  },
  {
   "cell_type": "code",
   "execution_count": 2,
   "metadata": {
    "collapsed": false,
    "deletable": true,
    "editable": true
   },
   "outputs": [],
   "source": [
    "# TODO: Fill this in based on where you saved the training and testing data\n",
    "filePath = 'traffic-signs-data/'\n",
    "training_file = filePath+'train.p'\n",
    "validation_file= filePath+'valid.p'\n",
    "testing_file = filePath+'test.p'\n",
    "\n",
    "with open(training_file, mode='rb') as f:\n",
    "    train = pickle.load(f)\n",
    "with open(validation_file, mode='rb') as f:\n",
    "    valid = pickle.load(f)\n",
    "with open(testing_file, mode='rb') as f:\n",
    "    test = pickle.load(f)\n",
    "    \n",
    "X_train, y_train = train['features'], train['labels']\n",
    "X_valid, y_valid = valid['features'], valid['labels']\n",
    "X_test, y_test = test['features'], test['labels']"
   ]
  },
  {
   "cell_type": "markdown",
   "metadata": {
    "deletable": true,
    "editable": true
   },
   "source": [
    "---\n",
    "\n",
    "## Step 1: Dataset Summary & Exploration\n",
    "\n",
    "The pickled data is a dictionary with 4 key/value pairs:\n",
    "\n",
    "- `'features'` is a 4D array containing raw pixel data of the traffic sign images, (num examples, width, height, channels).\n",
    "- `'labels'` is a 1D array containing the label/class id of the traffic sign. The file `signnames.csv` contains id -> name mappings for each id.\n",
    "- `'sizes'` is a list containing tuples, (width, height) representing the original width and height the image.\n",
    "- `'coords'` is a list containing tuples, (x1, y1, x2, y2) representing coordinates of a bounding box around the sign in the image. **THESE COORDINATES ASSUME THE ORIGINAL IMAGE. THE PICKLED DATA CONTAINS RESIZED VERSIONS (32 by 32) OF THESE IMAGES**\n",
    "\n",
    "Complete the basic data summary below. Use python, numpy and/or pandas methods to calculate the data summary rather than hard coding the results. For example, the [pandas shape method](http://pandas.pydata.org/pandas-docs/stable/generated/pandas.DataFrame.shape.html) might be useful for calculating some of the summary results. "
   ]
  },
  {
   "cell_type": "markdown",
   "metadata": {
    "deletable": true,
    "editable": true
   },
   "source": [
    "### Provide a Basic Summary of the Data Set Using Python, Numpy and/or Pandas"
   ]
  },
  {
   "cell_type": "code",
   "execution_count": 3,
   "metadata": {
    "collapsed": false,
    "deletable": true,
    "editable": true
   },
   "outputs": [
    {
     "name": "stdout",
     "output_type": "stream",
     "text": [
      "Number of training examples: x=34799, y=34799\n",
      "Number of validation examples: x=4410, y=4410\n",
      "Number of testing examples:  x=12630, y=12630\n",
      "Image data shape = (32, 32)\n",
      "Number of classes = 43\n"
     ]
    }
   ],
   "source": [
    "### Replace each question mark with the appropriate value. \n",
    "### Use python, pandas or numpy methods rather than hard coding the results\n",
    "\n",
    "# TODO: Number of training examples\n",
    "n_train = X_train.shape[0]\n",
    "\n",
    "# TODO: Number of validation examples\n",
    "n_validation = X_valid.shape[0]\n",
    "\n",
    "# TODO: Number of testing examples.\n",
    "n_test = X_test.shape[0]\n",
    "\n",
    "# TODO: What's the shape of an traffic sign image?\n",
    "image_shape = (X_train.shape[1], X_train.shape[2])\n",
    "\n",
    "# TODO: How many unique classes/labels there are in the dataset.\n",
    "labels = pd.read_csv('signnames.csv')\n",
    "n_classes = len(labels)\n",
    "\n",
    "print(\"Number of training examples: x={0}, y={1}\".format(n_train, y_train.shape[0]))\n",
    "print(\"Number of validation examples: x={0}, y={1}\".format(n_validation, y_valid.shape[0]))\n",
    "print(\"Number of testing examples:  x={0}, y={1}\".format(n_test, y_test.shape[0]))\n",
    "print(\"Image data shape =\", image_shape)\n",
    "print(\"Number of classes =\", n_classes)"
   ]
  },
  {
   "cell_type": "markdown",
   "metadata": {
    "deletable": true,
    "editable": true
   },
   "source": [
    "### Include an exploratory visualization of the dataset"
   ]
  },
  {
   "cell_type": "markdown",
   "metadata": {
    "deletable": true,
    "editable": true
   },
   "source": [
    "Visualize the German Traffic Signs Dataset using the pickled file(s). This is open ended, suggestions include: plotting traffic sign images, plotting the count of each sign, etc. \n",
    "\n",
    "The [Matplotlib](http://matplotlib.org/) [examples](http://matplotlib.org/examples/index.html) and [gallery](http://matplotlib.org/gallery.html) pages are a great resource for doing visualizations in Python.\n",
    "\n",
    "**NOTE:** It's recommended you start with something simple first. If you wish to do more, come back to it after you've completed the rest of the sections. It can be interesting to look at the distribution of classes in the training, validation and test set. Is the distribution the same? Are there more examples of some classes than others?"
   ]
  },
  {
   "cell_type": "code",
   "execution_count": 31,
   "metadata": {
    "collapsed": false,
    "deletable": true,
    "editable": true
   },
   "outputs": [
    {
     "name": "stdout",
     "output_type": "stream",
     "text": [
      "252\n"
     ]
    }
   ],
   "source": [
    "y_train_df = pd.DataFrame(data=y_train, columns=['ClassId'])\n",
    "y_valid_df = pd.DataFrame(data=y_valid, columns=['ClassId'])\n",
    "y_test_df = pd.DataFrame(data=y_test, columns=['ClassId'])\n",
    "\n",
    "grouped_train_index = y_train_df.groupby('ClassId')\n",
    "grouped_valid_index = y_valid_df.groupby('ClassId')\n",
    "grouped_test_index = y_test_df.groupby('ClassId')\n",
    "\n",
    "## Get the first index images in each class\n",
    "firstTrainDataForEachClass = grouped_train_index.head(5).sort_values('ClassId').reset_index()\n",
    "print(grouped_test_index.groups[0][1])\n",
    "#print(firstTrainDataForEachClass)"
   ]
  },
  {
   "cell_type": "code",
   "execution_count": null,
   "metadata": {
    "collapsed": true,
    "deletable": true,
    "editable": true
   },
   "outputs": [],
   "source": [
    "def enhanceContrastOfColourImage(img):\n",
    "    if np.mean(img) < 120:\n",
    "        brightImage = img.copy()\n",
    "        brightImage[:,:,0] = cv2.equalizeHist(img[:,:,0])\n",
    "        brightImage[:,:,1] = cv2.equalizeHist(img[:,:,1])\n",
    "        brightImage[:,:,2] = cv2.equalizeHist(img[:,:,2])\n",
    "        return brightImage\n",
    "    return img\n",
    "    '''\n",
    "    if np.mean(img) < 80:\n",
    "        yuv_img = cv2.cvtColor(img, cv2.COLOR_RGB2YUV)\n",
    "        yuv_img[:,:,0] = cv2.equalizeHist(yuv_img[:,:,0])\n",
    "        return cv2.cvtColor(yuv_img, cv2.COLOR_YUV2RGB)\n",
    "    return img\n",
    "    '''"
   ]
  },
  {
   "cell_type": "code",
   "execution_count": null,
   "metadata": {
    "collapsed": false,
    "deletable": true,
    "editable": true
   },
   "outputs": [],
   "source": [
    "## Plot class ID from index 0 to 9\n",
    "numOfRows = 5\n",
    "numOfColumns = 2\n",
    "\n",
    "ClassIdIndex = 0\n",
    "\n",
    "fig, ax = plt.subplots(numOfRows, numOfColumns, figsize=(7, 10))\n",
    "\n",
    "for row in range(numOfRows):\n",
    "    for column in range(numOfColumns):\n",
    "        #ax[row][column].imshow(X_train[firstTrainDataForEachClass.iloc[ClassIdIndex].values[0]])\n",
    "        ax[row][column].imshow(enhanceContrastOfColourImage(X_train[grouped_train_index.groups[ClassIdIndex][18]]))\n",
    "        ax[row][column].set_title(labels.loc[ClassIdIndex][1], fontsize=12)\n",
    "        ClassIdIndex += 1\n",
    "        \n",
    "        if ClassIdIndex >= 10:\n",
    "            break\n",
    "\n",
    "sns.set_style(style='white')\n",
    "plt.tight_layout()\n",
    "plt.savefig('Images/WriteUp/class1.png')"
   ]
  },
  {
   "cell_type": "code",
   "execution_count": null,
   "metadata": {
    "collapsed": false,
    "deletable": true,
    "editable": true
   },
   "outputs": [],
   "source": [
    "## Plot classes from index 10 to 19\n",
    "numOfRows = 5\n",
    "numOfColumns = 2\n",
    "ClassIdIndex = 10\n",
    "\n",
    "fig, ax = plt.subplots(numOfRows, numOfColumns, figsize=(7, 10))\n",
    "sns.set_style(style='white')\n",
    "\n",
    "for row in range(numOfRows):\n",
    "    for column in range(numOfColumns):\n",
    "        #ax[row][column].imshow(X_train[firstTrainDataForEachClass.iloc[ClassIdIndex].values[0]])\n",
    "        ax[row][column].imshow(enhanceContrastOfColourImage(X_train[grouped_train_index.groups[ClassIdIndex][80]]))\n",
    "        ax[row][column].set_title(labels.loc[ClassIdIndex][1], fontsize=12)\n",
    "        ClassIdIndex += 1\n",
    "        \n",
    "        if ClassIdIndex >= 20:\n",
    "            break\n",
    "\n",
    "plt.tight_layout()\n",
    "plt.savefig('Images/WriteUp/class2.png')"
   ]
  },
  {
   "cell_type": "code",
   "execution_count": null,
   "metadata": {
    "collapsed": false,
    "deletable": true,
    "editable": true
   },
   "outputs": [],
   "source": [
    "## Plot classes from index 20 to 29\n",
    "numOfRows = 5\n",
    "numOfColumns = 2\n",
    "ClassIdIndex = 20\n",
    "\n",
    "fig, ax = plt.subplots(numOfRows, numOfColumns, figsize=(7, 10))\n",
    "sns.set_style(style='white')\n",
    "\n",
    "for row in range(numOfRows):\n",
    "    for column in range(numOfColumns):\n",
    "        #ax[row][column].imshow(X_train[firstTrainDataForEachClass.iloc[ClassIdIndex].values[0]])\n",
    "        ax[row][column].imshow(enhanceContrastOfColourImage(X_train[grouped_train_index.groups[ClassIdIndex][80]]))\n",
    "        ax[row][column].set_title(labels.loc[ClassIdIndex][1], fontsize=12)\n",
    "        ClassIdIndex += 1\n",
    "        \n",
    "        if ClassIdIndex >= 30:\n",
    "            break\n",
    "\n",
    "plt.tight_layout()\n",
    "plt.savefig('Images/WriteUp/class3.png')"
   ]
  },
  {
   "cell_type": "code",
   "execution_count": null,
   "metadata": {
    "collapsed": false,
    "deletable": true,
    "editable": true
   },
   "outputs": [],
   "source": [
    "## Plot classes from index 30 to 39\n",
    "numOfRows = 5\n",
    "numOfColumns = 2\n",
    "ClassIdIndex = 30\n",
    "\n",
    "fig, ax = plt.subplots(numOfRows, numOfColumns, figsize=(7, 10))\n",
    "sns.set_style(style='white')\n",
    "\n",
    "for row in range(numOfRows):\n",
    "    for column in range(numOfColumns):\n",
    "        #ax[row][column].imshow(X_train[firstTrainDataForEachClass.iloc[ClassIdIndex].values[0]])\n",
    "        ax[row][column].imshow(enhanceContrastOfColourImage(X_train[grouped_train_index.groups[ClassIdIndex][80]]))\n",
    "        ax[row][column].set_title(labels.loc[ClassIdIndex][1], fontsize=12)\n",
    "        ClassIdIndex += 1\n",
    "        \n",
    "        if ClassIdIndex >= 40:\n",
    "            break\n",
    "\n",
    "plt.tight_layout()\n",
    "plt.savefig('Images/WriteUp/class4.png')"
   ]
  },
  {
   "cell_type": "code",
   "execution_count": null,
   "metadata": {
    "collapsed": false,
    "deletable": true,
    "editable": true
   },
   "outputs": [],
   "source": [
    "## Plot classes from index 40 to 42\n",
    "numOfRows = 2\n",
    "numOfColumns = 2\n",
    "\n",
    "fig, ax = plt.subplots(numOfRows, numOfColumns, figsize=(5.5, 5.5))\n",
    "sns.set_style(style='white')\n",
    "ClassIdIndex = 40\n",
    "for row in range(numOfRows):\n",
    "    for column in range(numOfColumns):\n",
    "        #ax[row][column].imshow(X_train[firstTrainDataForEachClass.iloc[ClassIdIndex].values[0]])\n",
    "        ax[row][column].imshow(enhanceContrastOfColourImage(X_train[grouped_train_index.groups[ClassIdIndex][80]]))\n",
    "        ax[row][column].set_title(labels.loc[ClassIdIndex][1], fontsize=12)\n",
    "        ClassIdIndex += 1\n",
    "        \n",
    "        if ClassIdIndex >= 43:\n",
    "            break\n",
    "\n",
    "plt.tight_layout()\n",
    "plt.savefig('Images/WriteUp/class5.png')"
   ]
  },
  {
   "cell_type": "code",
   "execution_count": null,
   "metadata": {
    "collapsed": false,
    "deletable": true,
    "editable": true
   },
   "outputs": [],
   "source": [
    "numOfSamples = pd.DataFrame()\n",
    "numOfSamples['Label'] = labels['SignName']\n",
    "\n",
    "numOfSamples['Number of Samples'] = grouped_train_index.size()\n",
    "#print(numOfSamples['Number of Samples'])\n",
    "fig, ax = plt.subplots(figsize=(10, 15))\n",
    "sns.barplot(x='Number of Samples', y='Label', data=numOfSamples)\n",
    "ax.set(xlim=(0, 2100), ylabel=\"Classes\", xlabel=\"Number of Samples\")\n",
    "ax.set_title('Number of samples in each class', size=20)"
   ]
  },
  {
   "cell_type": "markdown",
   "metadata": {
    "deletable": true,
    "editable": true
   },
   "source": [
    "----\n",
    "\n",
    "## Step 2: Design and Test a Model Architecture\n",
    "\n",
    "Design and implement a deep learning model that learns to recognize traffic signs. Train and test your model on the [German Traffic Sign Dataset](http://benchmark.ini.rub.de/?section=gtsrb&subsection=dataset).\n",
    "\n",
    "The LeNet-5 implementation shown in the [classroom](https://classroom.udacity.com/nanodegrees/nd013/parts/fbf77062-5703-404e-b60c-95b78b2f3f9e/modules/6df7ae49-c61c-4bb2-a23e-6527e69209ec/lessons/601ae704-1035-4287-8b11-e2c2716217ad/concepts/d4aca031-508f-4e0b-b493-e7b706120f81) at the end of the CNN lesson is a solid starting point. You'll have to change the number of classes and possibly the preprocessing, but aside from that it's plug and play! \n",
    "\n",
    "With the LeNet-5 solution from the lecture, you should expect a validation set accuracy of about 0.89. To meet specifications, the validation set accuracy will need to be at least 0.93. It is possible to get an even higher accuracy, but 0.93 is the minimum for a successful project submission. \n",
    "\n",
    "There are various aspects to consider when thinking about this problem:\n",
    "\n",
    "- Neural network architecture (is the network over or underfitting?)\n",
    "- Play around preprocessing techniques (normalization, rgb to grayscale, etc)\n",
    "- Number of examples per label (some have more than others).\n",
    "- Generate fake data.\n",
    "\n",
    "Here is an example of a [published baseline model on this problem](http://yann.lecun.com/exdb/publis/pdf/sermanet-ijcnn-11.pdf). It's not required to be familiar with the approach used in the paper but, it's good practice to try to read papers like these."
   ]
  },
  {
   "cell_type": "markdown",
   "metadata": {
    "deletable": true,
    "editable": true
   },
   "source": [
    "### Pre-process the Data Set (normalization, grayscale, etc.)"
   ]
  },
  {
   "cell_type": "markdown",
   "metadata": {
    "deletable": true,
    "editable": true
   },
   "source": [
    "Minimally, the image data should be normalized so that the data has mean zero and equal variance. For image data, `(pixel - 128)/ 128` is a quick way to approximately normalize the data and can be used in this project. \n",
    "\n",
    "Other pre-processing steps are optional. You can try different techniques to see if it improves performance. \n",
    "\n",
    "Use the code cell (or multiple code cells, if necessary) to implement the first step of your project."
   ]
  },
  {
   "cell_type": "code",
   "execution_count": 33,
   "metadata": {
    "collapsed": false,
    "deletable": true,
    "editable": true
   },
   "outputs": [],
   "source": [
    "### Preprocess the data here. It is required to normalize the data. Other preprocessing steps could include \n",
    "### converting to grayscale, etc.\n",
    "### Feel free to use as many code cells as needed.\n",
    "\n",
    "### Preprocess the data here. It is required to normalize the data. Other preprocessing steps could include \n",
    "### converting to grayscale, etc.\n",
    "### Feel free to use as many code cells as needed.\n",
    "\n",
    "## Change to gray scale\n",
    "def colourToGrey(images):\n",
    "    # X = 0.299 * X[:, :, :, 0] + 0.587 * X[:, :, :, 1] + 0.114 * X[:, :, :, 2]\n",
    "    gray = np.zeros([len(images), 32, 32], dtype=np.uint8)\n",
    "    for idx in tqdm(range(len(images))):\n",
    "        gray[idx] = cv2.cvtColor(images[idx], cv2.COLOR_RGB2GRAY)\n",
    "    return gray\n",
    "\n",
    "## Normalisation\n",
    "def normaliseColourImages(images):\n",
    "    images = images.astype(np.float32)\n",
    "    for idx, img in tqdm(enumerate(images)):\n",
    "        images[idx] = cv2.normalize(img, dst=img, alpha=0, beta=1, norm_type=cv2.NORM_MINMAX, dtype=cv2.CV_32F)\n",
    "    return images\n",
    "\n",
    "## Enhance Contrast using histogram equalization\n",
    "def enhanceContrastOfImage(img):\n",
    "    return cv2.equalizeHist(img)\n",
    "\n",
    "def sharpenImage(img):\n",
    "    kernelOfSharpener = np.array([[-1,-1,-1,-1,-1], \n",
    "                                 [-1,2,2,2,-1], \n",
    "                                 [-1,2,8,2,-1],\n",
    "                                 [-1,2,2,2,-1],\n",
    "                                 [-1,-1,-1,-1,-1]]) / 8.0\n",
    "    return cv2.filter2D(img, -1, kernelOfSharpener)\n",
    "\n",
    "def affineTransformation(img):\n",
    "    row, column = X_train[8000].shape[:2]\n",
    "    sourcePoints = np.float32([[0, 0], [column-1, 0], [0, row-1]])\n",
    "\n",
    "    destinationPoints = np.float32([[np.random.uniform(low=0., high=0.3, size=1)[0]*(row-1), np.random.uniform(low=0., high=0.3, size=1)[0]*(column-1)], \n",
    "                                    [np.random.uniform(low=0.5, high=1, size=1)[0]*(row-1), np.random.uniform(low=0., high=0.3, size=1)[0]*(column-1)], \n",
    "                                    [np.random.uniform(low=0., high=0.3, size=1)[0]*(row-1), np.random.uniform(low=0.5, high=1, size=1)[0]*(column-1)]])\n",
    "\n",
    "    affine_matrix = cv2.getAffineTransform(sourcePoints, destinationPoints)\n",
    "    \n",
    "    return cv2.warpAffine(img, affine_matrix, (row, column))\n",
    "\n",
    "def translateImageWithRandomDistance(img):\n",
    "    row, column = img.shape[:2]\n",
    "    matrixForTranslation = np.array([ [1, 0, np.random.randint(low=-5, high=5)], [0, 1, np.random.randint(low=-5, high=5)] ], dtype=float)\n",
    "    translatedImage = cv2.warpAffine(img, matrixForTranslation, (row, column))\n",
    "    return translatedImage\n",
    "\n",
    "def rotateImageWithRandomAngle(img):\n",
    "    row, column = img.shape[:2]\n",
    "    matrixForRotation = cv2.getRotationMatrix2D((column/2, row/2), np.random.randint(low=-35, high=35), 1)\n",
    "    rotatedImage = cv2.warpAffine(img, matrixForRotation, (row, column))\n",
    "    return rotatedImage\n",
    "\n",
    "def makeBallanceBetweenClasses(grouped_y_index=None, xData=None, yData=None):\n",
    "    ## balance the number of samples in classes\n",
    "    maxSampleNumbersAmongClasses = max(grouped_y_index.size())\n",
    "    argmaxSampleNumbersAmongClasses = np.argmax(grouped_y_index.size())\n",
    "\n",
    "    for class_idx, value in tqdm(grouped_y_index.groups.items()):\n",
    "        '''\n",
    "        if class_idx>1:\n",
    "            break\n",
    "        '''\n",
    "        necessaryNum = maxSampleNumbersAmongClasses - len(value)\n",
    "        randomImgInAClass = xData[np.random.choice(grouped_y_index.groups[class_idx].values, necessaryNum)]\n",
    "\n",
    "        augmented_y = np.ones(necessaryNum) * class_idx\n",
    "\n",
    "        for idx, img in enumerate(randomImgInAClass):\n",
    "            randomImgInAClass[idx] = transAndRotate(img)\n",
    "            #randomImgInAClass[idx] = transAndRotate(colourToGrey(img))\n",
    "        xData = np.vstack([xData, randomImgInAClass])\n",
    "        yData = np.append(yData, augmented_y)\n",
    "        \n",
    "    return xData, yData\n",
    "\n",
    "def transAndRotate(img):\n",
    "    switch = np.random.choice(('affine', 'rotate', 'translate', 'rotate+translate'), size=1)[0] # choose one among three strings\n",
    "    #print(switch)\n",
    "    if switch == 'affine':\n",
    "        return affineTransformation(img)\n",
    "    if switch == 'rotate':\n",
    "        return rotateImageWithRandomAngle(img)\n",
    "    if switch == 'translate':\n",
    "        return translateImageWithRandomDistance(img)\n",
    "    if switch == 'rotate+translate':\n",
    "        return translateImageWithRandomDistance(img)"
   ]
  },
  {
   "cell_type": "code",
   "execution_count": 4,
   "metadata": {
    "collapsed": false,
    "deletable": true,
    "editable": true
   },
   "outputs": [],
   "source": [
    "def saveToPickle(data, file_name=None, folder_path=None):\n",
    "    if not os.path.isdir(folder_path):\n",
    "        #print(\"Create \\\"preprocessed-data\\\" folder\")\n",
    "        os.mkdir(folder_path)\n",
    "    else:\n",
    "        print(\"\\\"preprocessed-data\\\" folder already exist\")\n",
    "\n",
    "    file_name = folder_path + file_name\n",
    "    if not os.path.exists(file_name):\n",
    "        try:\n",
    "            with open(file_name, 'wb') as f:\n",
    "                pickle.dump(data, f, pickle.HIGHEST_PROTOCOL)\n",
    "                print(\"Create\", file_name)\n",
    "        except Exception as e:\n",
    "            print('Error: unable to save data to', file_name, 'because', e)\n",
    "            \n",
    "def loadPickle(file_name=None, folder_path=None):\n",
    "    file = folder_path + file_name\n",
    "    #print('Load')\n",
    "    if os.path.exists(file):\n",
    "        try:\n",
    "            with open(file, 'rb') as f:\n",
    "                return pickle.load(f)\n",
    "                print(\"Open\", file)\n",
    "        except Exception as e:\n",
    "            print('Error: unable to open data to', file, 'because', e)"
   ]
  },
  {
   "cell_type": "markdown",
   "metadata": {
    "deletable": true,
    "editable": true
   },
   "source": [
    "#### Conver colour image to gray scale image"
   ]
  },
  {
   "cell_type": "code",
   "execution_count": null,
   "metadata": {
    "collapsed": false,
    "deletable": true,
    "editable": true
   },
   "outputs": [],
   "source": [
    "augmented_X_train = colourToGrey(X_train)\n",
    "augmented_X_valid = colourToGrey(X_valid)\n",
    "augmented_X_test = colourToGrey(X_test)"
   ]
  },
  {
   "cell_type": "markdown",
   "metadata": {
    "deletable": true,
    "editable": true
   },
   "source": [
    "#### Enhance Contrast"
   ]
  },
  {
   "cell_type": "raw",
   "metadata": {
    "deletable": true,
    "editable": true
   },
   "source": [
    "for idx in tqdm(range(augmented_X_train.shape[0])):\n",
    "    augmented_X_train[idx] = enhanceContrastOfImage(augmented_X_train[idx])\n",
    "\n",
    "for idx in tqdm(range(augmented_X_valid.shape[0])):\n",
    "    augmented_X_valid[idx] = enhanceContrastOfImage(augmented_X_valid[idx])\n",
    "\n",
    "for idx in tqdm(range(augmented_X_test.shape[0])):\n",
    "    augmented_X_test[idx] = enhanceContrastOfImage(augmented_X_test[idx])"
   ]
  },
  {
   "cell_type": "markdown",
   "metadata": {
    "deletable": true,
    "editable": true
   },
   "source": [
    "#### Normalisation"
   ]
  },
  {
   "cell_type": "code",
   "execution_count": null,
   "metadata": {
    "collapsed": false,
    "deletable": true,
    "editable": true
   },
   "outputs": [],
   "source": [
    "augmented_X_train = normaliseColourImages(augmented_X_train)\n",
    "augmented_X_valid = normaliseColourImages(augmented_X_valid)\n",
    "augmented_X_test = normaliseColourImages(augmented_X_test)"
   ]
  },
  {
   "cell_type": "markdown",
   "metadata": {
    "deletable": true,
    "editable": true
   },
   "source": [
    "#### Plot histograms"
   ]
  },
  {
   "cell_type": "code",
   "execution_count": null,
   "metadata": {
    "collapsed": false,
    "deletable": true,
    "editable": true
   },
   "outputs": [],
   "source": [
    "plt.hist(X_train[34000].ravel(), bins=256, histtype='step', color='black')\n",
    "plt.ticklabel_format(axis='y', style='scientific', scilimits=(0, 0))\n",
    "cdf = plt.twinx()"
   ]
  },
  {
   "cell_type": "code",
   "execution_count": null,
   "metadata": {
    "collapsed": false,
    "deletable": true,
    "editable": true
   },
   "outputs": [],
   "source": [
    "plt.hist(augmented_X_train[34000].ravel(), bins=256, histtype='step', color='black')\n",
    "plt.ticklabel_format(axis='y', style='scientific', scilimits=(0, 0))\n",
    "cdf = plt.twinx()\n",
    "img_cdf, bins = exposure.cumulative_distribution(augmented_X_train[0], 256)\n",
    "cdf.plot(bins, img_cdf, 'r')"
   ]
  },
  {
   "cell_type": "code",
   "execution_count": null,
   "metadata": {
    "collapsed": false,
    "deletable": true,
    "editable": true
   },
   "outputs": [],
   "source": [
    "fig, ax = plt.subplots(1,3, figsize=[10,3])\n",
    "ax[0].imshow(X_train[6230])\n",
    "ax[1].imshow(X_train[4440])\n",
    "ax[2].imshow(X_train[7811])\n",
    "\n",
    "plt.tight_layout()\n",
    "#plt.savefig('Images/WriteUp/original.png')"
   ]
  },
  {
   "cell_type": "code",
   "execution_count": null,
   "metadata": {
    "collapsed": false,
    "deletable": true,
    "editable": true
   },
   "outputs": [],
   "source": [
    "fig, ax = plt.subplots(1,3, figsize=[10,3])\n",
    "ax[0].imshow(augmented_X_train[6230], cmap='gray')\n",
    "ax[1].imshow(augmented_X_train[4440], cmap='gray')\n",
    "ax[2].imshow(augmented_X_train[7811], cmap='gray')\n",
    "\n",
    "plt.tight_layout()\n",
    "#plt.savefig('Images/WriteUp/preprocessed.png')"
   ]
  },
  {
   "cell_type": "markdown",
   "metadata": {
    "deletable": true,
    "editable": true
   },
   "source": [
    "#### Augmentation with Transformation"
   ]
  },
  {
   "cell_type": "code",
   "execution_count": null,
   "metadata": {
    "collapsed": false,
    "deletable": true,
    "editable": true
   },
   "outputs": [],
   "source": [
    "augmented_X_train, augmented_y_train = makeBallanceBetweenClasses(grouped_train_index, augmented_X_train, y_train)\n",
    "augmented_X_valid, augmented_y_valid = makeBallanceBetweenClasses(grouped_valid_index, augmented_X_valid, y_valid)\n",
    "augmented_X_test, augmented_y_test = makeBallanceBetweenClasses(grouped_test_index, augmented_X_test, y_test)"
   ]
  },
  {
   "cell_type": "code",
   "execution_count": null,
   "metadata": {
    "collapsed": false,
    "deletable": true,
    "editable": true
   },
   "outputs": [],
   "source": [
    "fig, ax = plt.subplots(1,3, figsize=[6,2])\n",
    "ax[0].imshow(augmented_X_train[56232], cmap='gray')\n",
    "ax[1].imshow(augmented_X_train[48039], cmap='gray')\n",
    "ax[2].imshow(augmented_X_train[79150], cmap='gray')\n",
    "\n",
    "plt.tight_layout()\n",
    "#plt.savefig('Images/WriteUp/transformation.png')"
   ]
  },
  {
   "cell_type": "code",
   "execution_count": null,
   "metadata": {
    "collapsed": false,
    "deletable": true,
    "editable": true
   },
   "outputs": [],
   "source": [
    "new_numOfSamples = pd.DataFrame()\n",
    "new_numOfSamples['Label'] = labels['SignName']\n",
    "\n",
    "augmented_y_train_df = pd.DataFrame(data=augmented_y_train, columns=['ClassId'])\n",
    "groups = augmented_y_train_df.groupby('ClassId')\n",
    "#print(groups.size())\n",
    "\n",
    "new_numOfSamples['Number of Samples'] = groups.size()\n",
    "#print(numOfSamples['Number of Samples'])\n",
    "fig, ax = plt.subplots(figsize=(10, 15))\n",
    "sns.barplot(x='Number of Samples', y='Label', data=new_numOfSamples)\n",
    "ax.set(xlim=(0, 2100), ylabel=\"Classes\", xlabel=\"Number of Samples\")\n",
    "ax.set_title('Number of ballanced samples in each class', size=20)\n",
    "plt.tight_layout()\n",
    "#plt.savefig('Images/WriteUp/augmented.png')"
   ]
  },
  {
   "cell_type": "code",
   "execution_count": null,
   "metadata": {
    "collapsed": false,
    "deletable": true,
    "editable": true
   },
   "outputs": [],
   "source": [
    "## Plot class ID from index 0 to 9\n",
    "numOfRows = 5\n",
    "numOfColumns = 2\n",
    "\n",
    "ClassIdIndex = 0\n",
    "\n",
    "fig, ax = plt.subplots(numOfRows, numOfColumns, figsize=(10, 10))\n",
    "sns.set_style(style='white')\n",
    "\n",
    "for row in range(numOfRows):\n",
    "    for column in range(numOfColumns):\n",
    "        ax[row][column].imshow(augmented_X_train[groups.groups[ClassIdIndex][0]], cmap='gray')\n",
    "        ax[row][column].set_title(labels.loc[ClassIdIndex][1], fontsize=10)\n",
    "        ClassIdIndex += 1\n",
    "        \n",
    "        if ClassIdIndex >= 10:\n",
    "            break\n",
    "\n",
    "plt.tight_layout()\n",
    "plt.savefig('Images/WriteUp/preprocessed1.png')"
   ]
  },
  {
   "cell_type": "code",
   "execution_count": null,
   "metadata": {
    "collapsed": false,
    "deletable": true,
    "editable": true
   },
   "outputs": [],
   "source": [
    "## Plot classes from index 10 to 19\n",
    "numOfRows = 5\n",
    "numOfColumns = 2\n",
    "ClassIdIndex = 10\n",
    "\n",
    "fig, ax = plt.subplots(numOfRows, numOfColumns, figsize=(10, 10))\n",
    "sns.set_style(style='white')\n",
    "\n",
    "for row in range(numOfRows):\n",
    "    for column in range(numOfColumns):\n",
    "        ax[row][column].imshow(augmented_X_train[groups.groups[ClassIdIndex][0]], cmap='gray')\n",
    "        ax[row][column].set_title(labels.loc[ClassIdIndex][1], fontsize=10)\n",
    "        ClassIdIndex += 1\n",
    "        \n",
    "        if ClassIdIndex >= 20:\n",
    "            break\n",
    "\n",
    "plt.tight_layout()\n",
    "plt.savefig('Images/WriteUp/preprocessed2.png')"
   ]
  },
  {
   "cell_type": "code",
   "execution_count": null,
   "metadata": {
    "collapsed": false,
    "deletable": true,
    "editable": true
   },
   "outputs": [],
   "source": [
    "## Plot classes from index 20 to 29\n",
    "numOfRows = 5\n",
    "numOfColumns = 2\n",
    "ClassIdIndex = 20\n",
    "\n",
    "fig, ax = plt.subplots(numOfRows, numOfColumns, figsize=(10, 10))\n",
    "sns.set_style(style='white')\n",
    "\n",
    "for row in range(numOfRows):\n",
    "    for column in range(numOfColumns):\n",
    "        ax[row][column].imshow(augmented_X_train[groups.groups[ClassIdIndex][0]], cmap='gray')\n",
    "        ax[row][column].set_title(labels.loc[ClassIdIndex][1], fontsize=10)\n",
    "        ClassIdIndex += 1\n",
    "        \n",
    "        if ClassIdIndex >= 30:\n",
    "            break\n",
    "\n",
    "plt.tight_layout()\n",
    "plt.savefig('Images/WriteUp/preprocessed3.png')"
   ]
  },
  {
   "cell_type": "code",
   "execution_count": null,
   "metadata": {
    "collapsed": false,
    "deletable": true,
    "editable": true
   },
   "outputs": [],
   "source": [
    "## Plot classes from index 30 to 39\n",
    "numOfRows = 5\n",
    "numOfColumns = 2\n",
    "ClassIdIndex = 30\n",
    "\n",
    "fig, ax = plt.subplots(numOfRows, numOfColumns, figsize=(10, 10))\n",
    "sns.set_style(style='white')\n",
    "\n",
    "for row in range(numOfRows):\n",
    "    for column in range(numOfColumns):\n",
    "        ax[row][column].imshow(augmented_X_train[groups.groups[ClassIdIndex][0]], cmap='gray')\n",
    "        ax[row][column].set_title(labels.loc[ClassIdIndex][1], fontsize=10)\n",
    "        ClassIdIndex += 1\n",
    "        \n",
    "        if ClassIdIndex >= 40:\n",
    "            break\n",
    "\n",
    "plt.tight_layout()\n",
    "plt.savefig('Images/WriteUp/preprocessed4.png')"
   ]
  },
  {
   "cell_type": "code",
   "execution_count": null,
   "metadata": {
    "collapsed": false,
    "deletable": true,
    "editable": true
   },
   "outputs": [],
   "source": [
    "## Plot classes from index 40 to 42\n",
    "numOfRows = 2\n",
    "numOfColumns = 2\n",
    "\n",
    "fig, ax = plt.subplots(numOfRows, numOfColumns, figsize=(5, 5))\n",
    "sns.set_style(style='white')\n",
    "ClassIdIndex = 40\n",
    "for row in range(numOfRows):\n",
    "    for column in range(numOfColumns):\n",
    "        ax[row][column].imshow(augmented_X_train[groups.groups[ClassIdIndex][0]], cmap='gray')\n",
    "        ax[row][column].set_title(labels.loc[ClassIdIndex][1], fontsize=10)\n",
    "        ClassIdIndex += 1\n",
    "        \n",
    "        if ClassIdIndex >= 43:\n",
    "            break\n",
    "\n",
    "plt.tight_layout()\n",
    "plt.savefig('Images/WriteUp/preprocessed5.png')"
   ]
  },
  {
   "cell_type": "markdown",
   "metadata": {
    "deletable": true,
    "editable": true
   },
   "source": [
    "### Batches"
   ]
  },
  {
   "cell_type": "code",
   "execution_count": 5,
   "metadata": {
    "collapsed": false,
    "deletable": true,
    "editable": true
   },
   "outputs": [],
   "source": [
    "import math\n",
    "def batches(batch_size, features, labels):\n",
    "    \"\"\"\n",
    "    Create batches of features and labels\n",
    "    :param batch_size: The batch size\n",
    "    :param features: List of features\n",
    "    :param labels: List of labels\n",
    "    :return: Batches of (Features, Labels)\n",
    "    \"\"\"\n",
    "    if batch_size > 0:\n",
    "        assert len(features) == len(labels)\n",
    "\n",
    "        output_batches = []\n",
    "        sample_size = len(features)\n",
    "\n",
    "        for start_i in range(0, sample_size, batch_size):\n",
    "            end_i = start_i + batch_size\n",
    "            batch = [features[start_i:end_i], labels[start_i:end_i]]\n",
    "            output_batches.append(batch)\n",
    "    else:\n",
    "        assert len(features) == len(labels)\n",
    "        \n",
    "        output_batches = []\n",
    "        sample_size = len(features)\n",
    "        \n",
    "        for start in range(sample_size):\n",
    "            batch = [features[start], labels[start]]\n",
    "            output_batches.append(batch)\n",
    "            \n",
    "    return output_batches"
   ]
  },
  {
   "cell_type": "markdown",
   "metadata": {
    "deletable": true,
    "editable": true
   },
   "source": [
    "### Model Architecture"
   ]
  },
  {
   "cell_type": "code",
   "execution_count": 6,
   "metadata": {
    "collapsed": true,
    "deletable": true,
    "editable": true
   },
   "outputs": [],
   "source": [
    "rate = 0.001\n",
    "EPOCHS = 30\n",
    "BATCH_SIZE = 128\n",
    "DROPOUT = 0.5"
   ]
  },
  {
   "cell_type": "code",
   "execution_count": 7,
   "metadata": {
    "collapsed": true,
    "deletable": true,
    "editable": true
   },
   "outputs": [],
   "source": [
    "from tensorflow.contrib.layers import flatten\n",
    "\n",
    "def InceptionModule(x, inputDepth):\n",
    "    # Arguments used for tf.truncated_normal, randomly defines variables for the weights and biases for each layer\n",
    "    mu = 0\n",
    "    sigma = 0.1\n",
    "    \n",
    "    # 1x1 convolution\n",
    "    a_conv_W_1x1 = tf.Variable(tf.truncated_normal(shape=(1, 1, inputDepth, 6), mean = mu, stddev = sigma))\n",
    "    a_conv_b_1x1 = tf.Variable(tf.zeros(6))\n",
    "    a_conv_1x1   = tf.nn.conv2d(x, a_conv_W_1x1, strides=[1, 1, 1, 1], padding='SAME') + a_conv_b_1x1\n",
    "    print('a_conv_1x1:', np.shape(a_conv_1x1))\n",
    "    \n",
    "    # 3x3 convolution after 1x1 convolution\n",
    "    b_conv_W_3x3 = tf.Variable(tf.truncated_normal(shape=(3, 3, 6, 16), mean = mu, stddev = sigma))\n",
    "    b_conv_b_3x3 = tf.Variable(tf.zeros(16))\n",
    "    b_conv_3x3   = tf.nn.conv2d(a_conv_1x1, b_conv_W_3x3, strides=[1, 1, 1, 1], padding='SAME') + b_conv_b_3x3\n",
    "    print('b_conv_3x3:', np.shape(b_conv_3x3))\n",
    "    \n",
    "    # 5x5 convolution after 1x1 convolution\n",
    "    c_conv_W_5x5 = tf.Variable(tf.truncated_normal(shape=(5, 5, 6, 32), mean = mu, stddev = sigma))\n",
    "    c_conv_b_5x5 = tf.Variable(tf.zeros(32))\n",
    "    c_conv_5x5   = tf.nn.conv2d(a_conv_1x1, c_conv_W_5x5, strides=[1, 1, 1, 1], padding='SAME') + c_conv_b_5x5\n",
    "    print('c_conv_5x5:', np.shape(c_conv_5x5))\n",
    "    \n",
    "    # Pooling\n",
    "    d_pooling = tf.nn.max_pool(x, ksize=[1, 3, 3, 1], strides=[1, 1, 1, 1], padding='SAME')\n",
    "    print('d_Pooling:', np.shape(d_pooling))\n",
    "    \n",
    "    # 1x1 convolution after Pooling\n",
    "    d_conv_W_1x1 = tf.Variable(tf.truncated_normal(shape=(1, 1, inputDepth, 6), mean = mu, stddev = sigma))\n",
    "    d_conv_b_1x1 = tf.Variable(tf.zeros(6))\n",
    "    d_conv_1x1   = tf.nn.conv2d(d_pooling, d_conv_W_1x1, strides=[1, 1, 1, 1], padding='SAME') + d_conv_b_1x1\n",
    "    print('d_conv_1x1:', np.shape(d_conv_1x1))\n",
    "    \n",
    "    inceptionOutput = tf.concat([a_conv_1x1, b_conv_3x3, c_conv_5x5, d_conv_1x1], 3)\n",
    "    print('Inception Output:', np.shape(inceptionOutput))\n",
    "    return inceptionOutput\n",
    "\n",
    "def Model(x):    \n",
    "    # Arguments used for tf.truncated_normal, randomly defines variables for the weights and biases for each layer\n",
    "    mu = 0\n",
    "    sigma = 0.1\n",
    "    \n",
    "    ## Layer 1: ##\n",
    "    # Convolutional. Input = 32x32x1. Output = output 30x30x6\n",
    "    L1_conv_W = tf.Variable(tf.truncated_normal(shape=(3, 3, 1, 6), mean = mu, stddev = sigma))\n",
    "    L1_conv_b = tf.Variable(tf.zeros(6))\n",
    "    L1_conv   = tf.nn.conv2d(x, L1_conv_W, strides=[1, 1, 1, 1], padding='VALID') + L1_conv_b\n",
    "    print('L1-1:', np.shape(L1_conv))\n",
    "    \n",
    "    # Activation.\n",
    "    L1_conv = tf.nn.relu(L1_conv)\n",
    "    # conv = tf.nn.dropout(conv, 0.7)\n",
    "    print('L1-2:', np.shape(L1_conv))\n",
    "    \n",
    "    ## Layer 2 ##\n",
    "    # Convolutional. Input = 30x30x6. Output = 28x28x16.\n",
    "    L2_conv_W = tf.Variable(tf.truncated_normal(shape=(3, 3, 6, 16), mean = mu, stddev = sigma))\n",
    "    L2_conv_b = tf.Variable(tf.zeros(16))\n",
    "    L2_conv   = tf.nn.conv2d(L1_conv, L2_conv_W, strides=[1, 1, 1, 1], padding='VALID') + L2_conv_b\n",
    "    print('L2-1:', np.shape(L2_conv))\n",
    "    \n",
    "    # Activation.\n",
    "    L2_conv = tf.nn.relu(L2_conv)\n",
    "    #conv1 = tf.nn.dropout(conv1, 0.7)\n",
    "    print('L2-2:', np.shape(L2_conv))\n",
    "\n",
    "    # Pooling. Input = 28x28x16. Output = 14x14x16.\n",
    "    L2_conv = tf.nn.max_pool(L2_conv, ksize=[1, 2, 2, 1], strides=[1, 2, 2, 1], padding='VALID')\n",
    "    L2_depth = np.shape(L2_conv)[3].value\n",
    "    print('L2-3:', np.shape(L2_conv))\n",
    "    \n",
    "    ## Layer 3: ##\n",
    "    # Inception. Output = 10x10x64.\n",
    "    L3_inception = InceptionModule(L2_conv, L2_depth)\n",
    "    print('L3-1:', np.shape(L3_inception))\n",
    "    \n",
    "    # Activation.\n",
    "    L3_inception = tf.nn.relu(L3_inception)\n",
    "    L3_inception = tf.nn.dropout(L3_inception, 0.5)\n",
    "    print('L3-2:', np.shape(L3_inception))\n",
    "    \n",
    "    ## Layer 4: ##\n",
    "    # Convolutional. Input = 14x14x108. Output = 12x12x320.\n",
    "    L4_conv_W = tf.Variable(tf.truncated_normal(shape=(5, 5, 60, 230), mean = mu, stddev = sigma))\n",
    "    L4_conv_b = tf.Variable(tf.zeros(230))\n",
    "    L4_conv   = tf.nn.conv2d(L3_inception, L4_conv_W, strides=[1, 1, 1, 1], padding='VALID') + L4_conv_b\n",
    "    print('L4-1:', np.shape(L4_conv))\n",
    "    # Activation.\n",
    "    L4_conv = tf.nn.relu(L4_conv)\n",
    "    L4_conv = tf.nn.dropout(L4_conv, 0.7)\n",
    "\n",
    "    # Pooling. Input = 12x12x320. Output = 3x3x320.\n",
    "    L4_conv = tf.nn.max_pool(L4_conv, ksize=[1, 3, 3, 1], strides=[1, 3, 3, 1], padding='VALID')\n",
    "    print('L4-2:', np.shape(L4_conv))\n",
    "\n",
    "    # Flatten. Input = 3x3x320. Output = 2880.\n",
    "    fc0   = flatten(L4_conv)\n",
    "    print('fc0:', np.shape(fc0))\n",
    "    \n",
    "    ## Layer 5: ## \n",
    "    # Fully Connected. Input = 2880. Output = 1200.\n",
    "    fc1_W = tf.Variable(tf.truncated_normal(shape=(2070, 1700), mean = mu, stddev = sigma))\n",
    "    fc1_b = tf.Variable(tf.zeros(1700))\n",
    "    fc1   = tf.matmul(fc0, fc1_W) + fc1_b\n",
    "    print('fc1:', np.shape(fc1))\n",
    "    \n",
    "    # Activation.\n",
    "    fc1    = tf.nn.relu(fc1)\n",
    "    fc1 = tf.nn.dropout(fc1, 0.5)\n",
    "\n",
    "    ## Layer 5: ##\n",
    "    # Fully Connected. Input = 1200. Output = 430.\n",
    "    fc2_W  = tf.Variable(tf.truncated_normal(shape=(1700, 800), mean = mu, stddev = sigma))\n",
    "    fc2_b  = tf.Variable(tf.zeros(800))\n",
    "    fc2    = tf.matmul(fc1, fc2_W) + fc2_b\n",
    "    \n",
    "    # Activation.\n",
    "    fc2    = tf.nn.relu(fc2)\n",
    "    fc2 = tf.nn.dropout(fc2, 0.5)\n",
    "    print('fc2:', np.shape(fc2))\n",
    "    \n",
    "    # Layer 6: Fully Connected. Input = 430. Output = 43.\n",
    "    fc3_W  = tf.Variable(tf.truncated_normal(shape=(800, 43), mean = mu, stddev = sigma))\n",
    "    fc3_b  = tf.Variable(tf.zeros(43))\n",
    "    logits = tf.matmul(fc2, fc3_W) + fc3_b\n",
    "\n",
    "    return logits"
   ]
  },
  {
   "cell_type": "markdown",
   "metadata": {
    "deletable": true,
    "editable": true
   },
   "source": [
    "### Train, Validate and Test the Model"
   ]
  },
  {
   "cell_type": "markdown",
   "metadata": {
    "deletable": true,
    "editable": true
   },
   "source": [
    "A validation set can be used to assess how well the model is performing. A low accuracy on the training and validation\n",
    "sets imply underfitting. A high accuracy on the training set but low accuracy on the validation set implies overfitting."
   ]
  },
  {
   "cell_type": "code",
   "execution_count": 8,
   "metadata": {
    "collapsed": false,
    "deletable": true,
    "editable": true
   },
   "outputs": [],
   "source": [
    "### Train your model here.\n",
    "### Calculate and report the accuracy on the training and validation set.\n",
    "### Once a final model architecture is selected, \n",
    "### the accuracy on the test set should be calculated and reported as well.\n",
    "### Feel free to use as many code cells as needed.\n",
    "\n",
    "## Features and Labels\n",
    "x = tf.placeholder(tf.float32, (None, 32, 32, 1))\n",
    "y = tf.placeholder(tf.int32, (None))\n",
    "one_hot_y = tf.one_hot(y, 43)"
   ]
  },
  {
   "cell_type": "code",
   "execution_count": 9,
   "metadata": {
    "collapsed": false,
    "deletable": true,
    "editable": true,
    "scrolled": false
   },
   "outputs": [
    {
     "name": "stdout",
     "output_type": "stream",
     "text": [
      "L1-1: (?, 30, 30, 6)\n",
      "L1-2: (?, 30, 30, 6)\n",
      "L2-1: (?, 28, 28, 16)\n",
      "L2-2: (?, 28, 28, 16)\n",
      "L2-3: (?, 14, 14, 16)\n",
      "a_conv_1x1: (?, 14, 14, 6)\n",
      "b_conv_3x3: (?, 14, 14, 16)\n",
      "c_conv_5x5: (?, 14, 14, 32)\n",
      "d_Pooling: (?, 14, 14, 16)\n",
      "d_conv_1x1: (?, 14, 14, 6)\n",
      "Inception Output: (?, 14, 14, 60)\n",
      "L3-1: (?, 14, 14, 60)\n",
      "L3-2: (?, 14, 14, 60)\n",
      "L4-1: (?, 10, 10, 230)\n",
      "L4-2: (?, 3, 3, 230)\n",
      "fc0: (?, 2070)\n",
      "fc1: (?, 1700)\n",
      "fc2: (?, 800)\n"
     ]
    }
   ],
   "source": [
    "## Training Pipeline\n",
    "logits = Model(x)\n",
    "cross_entropy = tf.nn.softmax_cross_entropy_with_logits(logits=logits, labels=one_hot_y)\n",
    "loss_operation = tf.reduce_mean(cross_entropy)\n",
    "optimizer = tf.train.AdamOptimizer(learning_rate = rate)\n",
    "training_operation = optimizer.minimize(loss_operation)"
   ]
  },
  {
   "cell_type": "code",
   "execution_count": 10,
   "metadata": {
    "collapsed": false,
    "deletable": true,
    "editable": true
   },
   "outputs": [],
   "source": [
    "## Model Evaluation\n",
    "correct_prediction = tf.equal(tf.argmax(logits, 1), tf.argmax(one_hot_y, 1))\n",
    "accuracy_operation = tf.reduce_mean(tf.cast(correct_prediction, tf.float32))\n",
    "saver = tf.train.Saver()\n",
    "\n",
    "def evaluate(X_data, y_data, batch_size, sess):\n",
    "    num_examples = len(X_data)\n",
    "    total_accuracy = 0\n",
    "    sess = tf.get_default_session()\n",
    "\n",
    "    for batch_x, batch_y in tqdm(batches(batch_size, X_data, y_data)):\n",
    "        accuracy = sess.run(accuracy_operation, feed_dict={x: batch_x, y: batch_y})\n",
    "        total_accuracy += (accuracy * len(batch_x))\n",
    "    return total_accuracy / num_examples"
   ]
  },
  {
   "cell_type": "code",
   "execution_count": 11,
   "metadata": {
    "collapsed": false,
    "deletable": true,
    "editable": true
   },
   "outputs": [
    {
     "ename": "NameError",
     "evalue": "name 'augmented_X_train' is not defined",
     "output_type": "error",
     "traceback": [
      "\u001b[0;31m---------------------------------------------------------------------------\u001b[0m",
      "\u001b[0;31mNameError\u001b[0m                                 Traceback (most recent call last)",
      "\u001b[0;32m<ipython-input-11-c06100cca5af>\u001b[0m in \u001b[0;36m<module>\u001b[0;34m()\u001b[0m\n\u001b[1;32m      1\u001b[0m \u001b[0;31m## Reshape dataset\u001b[0m\u001b[0;34m\u001b[0m\u001b[0;34m\u001b[0m\u001b[0m\n\u001b[0;32m----> 2\u001b[0;31m \u001b[0maugmented_X_train\u001b[0m \u001b[0;34m=\u001b[0m \u001b[0mnp\u001b[0m\u001b[0;34m.\u001b[0m\u001b[0mreshape\u001b[0m\u001b[0;34m(\u001b[0m\u001b[0maugmented_X_train\u001b[0m\u001b[0;34m,\u001b[0m \u001b[0;34m(\u001b[0m\u001b[0mlen\u001b[0m\u001b[0;34m(\u001b[0m\u001b[0maugmented_X_train\u001b[0m\u001b[0;34m)\u001b[0m\u001b[0;34m,\u001b[0m \u001b[0;36m32\u001b[0m\u001b[0;34m,\u001b[0m \u001b[0;36m32\u001b[0m\u001b[0;34m,\u001b[0m \u001b[0;36m1\u001b[0m\u001b[0;34m)\u001b[0m\u001b[0;34m)\u001b[0m\u001b[0;34m\u001b[0m\u001b[0m\n\u001b[0m\u001b[1;32m      3\u001b[0m \u001b[0maugmented_X_valid\u001b[0m \u001b[0;34m=\u001b[0m \u001b[0mnp\u001b[0m\u001b[0;34m.\u001b[0m\u001b[0mreshape\u001b[0m\u001b[0;34m(\u001b[0m\u001b[0maugmented_X_valid\u001b[0m\u001b[0;34m,\u001b[0m \u001b[0;34m(\u001b[0m\u001b[0mlen\u001b[0m\u001b[0;34m(\u001b[0m\u001b[0maugmented_X_valid\u001b[0m\u001b[0;34m)\u001b[0m\u001b[0;34m,\u001b[0m \u001b[0;36m32\u001b[0m\u001b[0;34m,\u001b[0m \u001b[0;36m32\u001b[0m\u001b[0;34m,\u001b[0m \u001b[0;36m1\u001b[0m\u001b[0;34m)\u001b[0m\u001b[0;34m)\u001b[0m\u001b[0;34m\u001b[0m\u001b[0m\n\u001b[1;32m      4\u001b[0m \u001b[0maugmented_X_test\u001b[0m \u001b[0;34m=\u001b[0m \u001b[0mnp\u001b[0m\u001b[0;34m.\u001b[0m\u001b[0mreshape\u001b[0m\u001b[0;34m(\u001b[0m\u001b[0maugmented_X_test\u001b[0m\u001b[0;34m,\u001b[0m \u001b[0;34m(\u001b[0m\u001b[0mlen\u001b[0m\u001b[0;34m(\u001b[0m\u001b[0maugmented_X_test\u001b[0m\u001b[0;34m)\u001b[0m\u001b[0;34m,\u001b[0m \u001b[0;36m32\u001b[0m\u001b[0;34m,\u001b[0m \u001b[0;36m32\u001b[0m\u001b[0;34m,\u001b[0m \u001b[0;36m1\u001b[0m\u001b[0;34m)\u001b[0m\u001b[0;34m)\u001b[0m\u001b[0;34m\u001b[0m\u001b[0m\n\u001b[1;32m      5\u001b[0m \u001b[0mprint\u001b[0m\u001b[0;34m(\u001b[0m\u001b[0maugmented_X_train\u001b[0m\u001b[0;34m[\u001b[0m\u001b[0;34m:\u001b[0m\u001b[0;36m128\u001b[0m\u001b[0;34m]\u001b[0m\u001b[0;34m.\u001b[0m\u001b[0mshape\u001b[0m\u001b[0;34m)\u001b[0m\u001b[0;34m\u001b[0m\u001b[0m\n",
      "\u001b[0;31mNameError\u001b[0m: name 'augmented_X_train' is not defined"
     ]
    }
   ],
   "source": [
    "## Reshape dataset\n",
    "augmented_X_train = np.reshape(augmented_X_train, (len(augmented_X_train), 32, 32, 1))\n",
    "augmented_X_valid = np.reshape(augmented_X_valid, (len(augmented_X_valid), 32, 32, 1))\n",
    "augmented_X_test = np.reshape(augmented_X_test, (len(augmented_X_test), 32, 32, 1))\n",
    "print(augmented_X_train[:128].shape)"
   ]
  },
  {
   "cell_type": "markdown",
   "metadata": {},
   "source": [
    "# 아래 셀 바꾸기 "
   ]
  },
  {
   "cell_type": "code",
   "execution_count": null,
   "metadata": {
    "collapsed": false,
    "deletable": true,
    "editable": true,
    "scrolled": true
   },
   "outputs": [],
   "source": [
    "## Train the Model\n",
    "\n",
    "with tf.Session() as session:\n",
    "    session.run(tf. global_variables_initializer())\n",
    "    num_examples = len(augmented_X_train)\n",
    "    \n",
    "    print(\"Training...\")\n",
    "    #print()\n",
    "    for i in range(EPOCHS):\n",
    "        shuffle_X, shuffle_y = shuffle(augmented_X_train, augmented_y_train)\n",
    "        for batch_x, batch_y in tqdm(batches(BATCH_SIZE, shuffle_X, shuffle_y)):\n",
    "            session.run(training_operation, feed_dict={x: batch_x, y: batch_y, keep_prob: DROPOUT})\n",
    "        \n",
    "        validation_accuracy = evaluate(augmented_X_valid, augmented_y_valid, BATCH_SIZE, session)\n",
    "        print(\"EPOCH {0} ...\".format(i+1))\n",
    "        print(\"Validation Accuracy = {:.3f}\".format(validation_accuracy))\n",
    "        print()\n",
    "    \n",
    "    saver.save(session, './weights')\n",
    "    print(\"Model Saved\")"
   ]
  },
  {
   "cell_type": "markdown",
   "metadata": {
    "deletable": true,
    "editable": true
   },
   "source": [
    "---\n",
    "\n",
    "## Step 3: Test a Model on New Images\n",
    "\n",
    "To give yourself more insight into how your model is working, download at least five pictures of German traffic signs from the web and use your model to predict the traffic sign type.\n",
    "\n",
    "You may find `signnames.csv` useful as it contains mappings from the class id (integer) to the actual sign name."
   ]
  },
  {
   "cell_type": "markdown",
   "metadata": {
    "deletable": true,
    "editable": true
   },
   "source": [
    "### Load and Output the Images"
   ]
  },
  {
   "cell_type": "code",
   "execution_count": 12,
   "metadata": {
    "collapsed": false
   },
   "outputs": [
    {
     "name": "stdout",
     "output_type": "stream",
     "text": [
      "(86430, 32, 32, 1)\n",
      "(86430,)\n",
      "(10320, 32, 32, 1)\n",
      "(10320,)\n",
      "(32250, 32, 32, 1)\n",
      "(32250,)\n"
     ]
    }
   ],
   "source": [
    "augmented_X_train = loadPickle(file_name='augmented_X_train.p', folder_path=\"preprocessed-data/\")\n",
    "augmented_y_train = loadPickle(file_name='augmented_y_train.p', folder_path=\"preprocessed-data/\")\n",
    "\n",
    "augmented_X_valid = loadPickle(file_name='augmented_X_valid.p', folder_path=\"preprocessed-data/\")\n",
    "augmented_y_valid = loadPickle(file_name='augmented_y_valid.p', folder_path=\"preprocessed-data/\")\n",
    "\n",
    "augmented_X_test = loadPickle(file_name='augmented_X_test.p', folder_path=\"preprocessed-data/\")\n",
    "augmented_y_test = loadPickle(file_name='augmented_y_test.p', folder_path=\"preprocessed-data/\")\n",
    "\n",
    "## Reshape dataset\n",
    "augmented_X_train = np.reshape(augmented_X_train, (len(augmented_X_train), 32, 32, 1))\n",
    "augmented_X_valid = np.reshape(augmented_X_valid, (len(augmented_X_valid), 32, 32, 1))\n",
    "augmented_X_test = np.reshape(augmented_X_test, (len(augmented_X_test), 32, 32, 1))\n",
    "\n",
    "print(np.shape(augmented_X_train))\n",
    "print(np.shape(augmented_y_train))\n",
    "\n",
    "print(np.shape(augmented_X_valid))\n",
    "print(np.shape(augmented_y_valid))\n",
    "\n",
    "print(np.shape(augmented_X_test))\n",
    "print(np.shape(augmented_y_test))"
   ]
  },
  {
   "cell_type": "code",
   "execution_count": null,
   "metadata": {
    "collapsed": false,
    "deletable": true,
    "editable": true
   },
   "outputs": [],
   "source": [
    "# Launch the graph\n",
    "#saver = tf.train.Saver()\n",
    "with tf.Session() as session:\n",
    "    #session.run(tf. global_variables_initializer())\n",
    "    saver.restore(session, tf.train.latest_checkpoint('./'))\n",
    "    '''\n",
    "    new_saver = tf.train.import_meta_graph(\"weights.meta\")\n",
    "    new_saver.restore(session, tf.train.latest_checkpoint('./'))\n",
    "    all_vars = tf.get_collection('vars')\n",
    "    for v in all_vars:\n",
    "        v_ = session.run(v)\n",
    "        print(v_)\n",
    "    '''\n",
    "    saver.restore(session, './IC')\n",
    "    accuracy = evaluate(augmented_X_test, augmented_y_test, BATCH_SIZE, session)\n",
    "    print(accuracy)"
   ]
  },
  {
   "cell_type": "markdown",
   "metadata": {
    "deletable": true,
    "editable": true
   },
   "source": [
    "### Predict the Sign Type for Each Image"
   ]
  },
  {
   "cell_type": "code",
   "execution_count": 15,
   "metadata": {
    "collapsed": false,
    "deletable": true,
    "editable": true
   },
   "outputs": [
    {
     "data": {
      "image/png": "[encoded data removed]",
      "text/plain": [
       "<matplotlib.figure.Figure at 0x147fccba8>"
      ]
     },
     "metadata": {},
     "output_type": "display_data"
    }
   ],
   "source": [
    "newTestImages = np.zeros((5, 32, 32), dtype=np.float32)\n",
    "\n",
    "''' Colour\n",
    "img1 = cv2.cvtColor(cv2.imread('Test_images/no passing.jpg'), cv2.COLOR_BGR2RGB)\n",
    "img2 = cv2.cvtColor(cv2.imread('Test_images/right of way at the next intersection.jpg'), cv2.COLOR_BGR2RGB)\n",
    "img3 = cv2.cvtColor(cv2.imread('Test_images/speed limit 80km.jpg'), cv2.COLOR_BGR2RGB)\n",
    "img4 = cv2.cvtColor(cv2.imread('Test_images/yield.jpg'), cv2.COLOR_BGR2RGB)\n",
    "img5 = cv2.cvtColor(cv2.imread('Test_images/general causion.png'), cv2.COLOR_BGR2RGB)\n",
    "'''\n",
    "\n",
    "## Gray\n",
    "img1 = cv2.cvtColor(cv2.imread('./Images/Test_images/no_passing.jpg'), cv2.COLOR_BGR2GRAY)\n",
    "img2 = cv2.cvtColor(cv2.imread('./Images/Test_images/right_of_way_at_the_next_intersection.jpg'), cv2.COLOR_BGR2GRAY)\n",
    "img3 = cv2.cvtColor(cv2.imread('./Images/Test_images/speed_limit_80km.jpg'), cv2.COLOR_BGR2GRAY)\n",
    "img4 = cv2.cvtColor(cv2.imread('./Images/Test_images/yield.jpg'), cv2.COLOR_BGR2GRAY)\n",
    "img5 = cv2.cvtColor(cv2.imread('./Images/Test_images/general_causion.png'), cv2.COLOR_BGR2GRAY)\n",
    "\n",
    "newTestImages[0] = cv2.resize(img1, (32, 32))\n",
    "newTestImages[1] = cv2.resize(img2, (32, 32)) \n",
    "newTestImages[2] = cv2.resize(img3, (32, 32)) \n",
    "newTestImages[3] = cv2.resize(img4, (32, 32)) \n",
    "newTestImages[4] = cv2.resize(img5, (32, 32)) \n",
    "\n",
    "fig, ax = plt.subplots(5, 1, figsize=[10, 10])\n",
    "\n",
    "newTestImages = np.reshape(newTestImages, (len(newTestImages), 32, 32, 1)) # Gray\n",
    "\n",
    "with tf.Session() as session:\n",
    "    #session.run(tf. global_variables_initializer())\n",
    "    saver.restore(session, tf.train.latest_checkpoint('./'))\n",
    "    saver.restore(session, './IC')\n",
    "    #accuracy = evaluate(augmented_X_test, augmented_y_test, BATCH_SIZE, session)\n",
    "    output = session.run(logits, feed_dict={x: newTestImages})\n",
    "\n",
    "#print(accuracy)\n",
    "correct_index = [9, 11, 5, 13, 18]\n",
    "correctLabels = labels.ix[correct_index]['SignName'].values\n",
    "\n",
    "predict_index = output.argmax(axis=1)\n",
    "predictLabels = labels.ix[predict_index]['SignName'].values\n",
    "\n",
    "ax[0].imshow(img1)\n",
    "ax[0].set_title('Correct: '+correctLabels[0]+' -> Predict: '+predictLabels[0])\n",
    "\n",
    "ax[1].imshow(img2)\n",
    "ax[1].set_title('Correct: '+correctLabels[1]+' -> Predict: '+predictLabels[1])\n",
    "\n",
    "ax[2].imshow(img3)\n",
    "ax[2].set_title('False: '+correctLabels[2]+' -> Predict: '+predictLabels[2])\n",
    "\n",
    "ax[3].imshow(img4)\n",
    "ax[3].set_title('Correct: '+correctLabels[3]+' -> Predict: '+predictLabels[3])\n",
    "\n",
    "ax[4].imshow(img5)\n",
    "ax[4].set_title('Correct: '+correctLabels[4]+' -> Predict: '+predictLabels[4])\n",
    "\n",
    "plt.tight_layout()"
   ]
  },
  {
   "cell_type": "raw",
   "metadata": {
    "collapsed": true,
    "deletable": true,
    "editable": true
   },
   "source": [
    "### Run the predictions here and use the model to output the prediction for each image.\n",
    "### Make sure to pre-process the images with the same pre-processing pipeline used earlier.\n",
    "### Feel free to use as many code cells as needed.\n",
    "\n",
    "#predict_logits =  LeNet(x, keep_prob)\n",
    "with tf.Session() as session:\n",
    "    session.run(tf. global_variables_initializer())\n",
    "    #loader = tf.train.import_meta_graph('./weights.meta')\n",
    "    #loader.restore(session, tf.train.latest_checkpoint('./'))\n",
    "    saver.restore(session, './weights')\n",
    "    #session = tf.get_default_session()\n",
    "    output = session.run(logits, feed_dict={x: newTestImages, keep_prob: DROPOUT})\n",
    "    #output = session.run(predict_logits, feed_dict={x: newTestImages, keep_prob: DROPOUT})\n",
    "print(output.argmax(axis=1))"
   ]
  },
  {
   "cell_type": "raw",
   "metadata": {
    "deletable": true,
    "editable": true
   },
   "source": [
    "predict_index = output.argmax(axis=1)\n",
    "predictLabels = labels.ix[predict_index]['SignName'].values\n",
    "\n",
    "sns.set_style(style='white')\n",
    "for idx, image in enumerate(newTestImages):\n",
    "    plt.figure(figsize=(3, 3))\n",
    "    plt.imshow(image)\n",
    "    plt.title('<Correct Label: {0}>, <Predict Label: {1}>'.format(newTestLabels[idx], predictLabels[idx]))"
   ]
  },
  {
   "cell_type": "markdown",
   "metadata": {
    "deletable": true,
    "editable": true
   },
   "source": [
    "### Analyze Performance"
   ]
  },
  {
   "cell_type": "code",
   "execution_count": 28,
   "metadata": {
    "collapsed": false,
    "deletable": true,
    "editable": true
   },
   "outputs": [
    {
     "name": "stdout",
     "output_type": "stream",
     "text": [
      "0.360000005364\n"
     ]
    }
   ],
   "source": [
    "### Calculate the accuracy for these 5 new images. \n",
    "### For example, if the model predicted 1 out of 5 signs correctly, it's 20% accurate on these new images.\n",
    "# Launch the graph\n",
    "\n",
    "def testEvaluate(X_data, y_data, sess):\n",
    "    num_examples = len(X_data)\n",
    "    total_accuracy = 0\n",
    "    sess = tf.get_default_session()\n",
    "    \n",
    "    assert len(X_data) == len(y_data)\n",
    "    \n",
    "    for idx in range(len(y_data)):\n",
    "        accuracy = sess.run(accuracy_operation, feed_dict={x: X_data, y: y_data})\n",
    "        total_accuracy += accuracy\n",
    "    return total_accuracy / num_examples\n",
    "\n",
    "with tf.Session() as session:\n",
    "    session.run(tf. global_variables_initializer())\n",
    "    saver.restore(session, './IC')\n",
    "    \n",
    "    accuracyOnTest = testEvaluate(newTestImages, correct_index, session)\n",
    "    \n",
    "print(accuracyOnTest)"
   ]
  },
  {
   "cell_type": "markdown",
   "metadata": {
    "deletable": true,
    "editable": true
   },
   "source": [
    "### Output Top 5 Softmax Probabilities For Each Image Found on the Web"
   ]
  },
  {
   "cell_type": "markdown",
   "metadata": {
    "deletable": true,
    "editable": true
   },
   "source": [
    "For each of the new images, print out the model's softmax probabilities to show the **certainty** of the model's predictions (limit the output to the top 5 probabilities for each image). [`tf.nn.top_k`](https://www.tensorflow.org/versions/r0.12/api_docs/python/nn.html#top_k) could prove helpful here. \n",
    "\n",
    "The example below demonstrates how tf.nn.top_k can be used to find the top k predictions for each image.\n",
    "\n",
    "`tf.nn.top_k` will return the values and indices (class ids) of the top k predictions. So if k=3, for each sign, it'll return the 3 largest probabilities (out of a possible 43) and the correspoding class ids.\n",
    "\n",
    "Take this numpy array as an example. The values in the array represent predictions. The array contains softmax probabilities for five candidate images with six possible classes. `tk.nn.top_k` is used to choose the three classes with the highest probability:\n",
    "\n",
    "```\n",
    "# (5, 6) array\n",
    "a = np.array([[ 0.24879643,  0.07032244,  0.12641572,  0.34763842,  0.07893497,\n",
    "         0.12789202],\n",
    "       [ 0.28086119,  0.27569815,  0.08594638,  0.0178669 ,  0.18063401,\n",
    "         0.15899337],\n",
    "       [ 0.26076848,  0.23664738,  0.08020603,  0.07001922,  0.1134371 ,\n",
    "         0.23892179],\n",
    "       [ 0.11943333,  0.29198961,  0.02605103,  0.26234032,  0.1351348 ,\n",
    "         0.16505091],\n",
    "       [ 0.09561176,  0.34396535,  0.0643941 ,  0.16240774,  0.24206137,\n",
    "         0.09155967]])\n",
    "```\n",
    "\n",
    "Running it through `sess.run(tf.nn.top_k(tf.constant(a), k=3))` produces:\n",
    "\n",
    "```\n",
    "TopKV2(values=array([[ 0.34763842,  0.24879643,  0.12789202],\n",
    "       [ 0.28086119,  0.27569815,  0.18063401],\n",
    "       [ 0.26076848,  0.23892179,  0.23664738],\n",
    "       [ 0.29198961,  0.26234032,  0.16505091],\n",
    "       [ 0.34396535,  0.24206137,  0.16240774]]), indices=array([[3, 0, 5],\n",
    "       [0, 1, 4],\n",
    "       [0, 5, 1],\n",
    "       [1, 3, 5],\n",
    "       [1, 4, 3]], dtype=int32))\n",
    "```\n",
    "\n",
    "Looking just at the first row we get `[ 0.34763842,  0.24879643,  0.12789202]`, you can confirm these are the 3 largest probabilities in `a`. You'll also notice `[3, 0, 5]` are the corresponding indices."
   ]
  },
  {
   "cell_type": "code",
   "execution_count": 29,
   "metadata": {
    "collapsed": false,
    "deletable": true,
    "editable": true
   },
   "outputs": [
    {
     "name": "stdout",
     "output_type": "stream",
     "text": [
      "5 Softmax Probabilities For Each Image:\n",
      " [[16  9 10  6 41]\n",
      " [30 18 37 16 11]\n",
      " [ 0 16  1  5  3]\n",
      " [21 30 18 11 25]\n",
      " [18 26 24 32 29]]\n"
     ]
    }
   ],
   "source": [
    "### Print out the top five softmax probabilities for the predictions on the German traffic sign images found on the web. \n",
    "### Feel free to use as many code cells as needed.\n",
    "with tf.Session() as session:\n",
    "    FivesoftmaxProbabilities = session.run(tf.nn.top_k(tf.constant(output), sorted=True, k=5))\n",
    "\n",
    "print('5 Softmax Probabilities For Each Image:\\n', FivesoftmaxProbabilities[1])"
   ]
  },
  {
   "cell_type": "code",
   "execution_count": 64,
   "metadata": {
    "collapsed": false,
    "deletable": true,
    "editable": true
   },
   "outputs": [
    {
     "name": "stdout",
     "output_type": "stream",
     "text": [
      "16\n",
      "9\n",
      "10\n",
      "6\n",
      "41\n",
      "9960\n",
      "Label for the sampled image: No passing\n",
      "ClassId                                           16\n",
      "SignName    Vehicles over 3.5 metric tons prohibited\n",
      "Name: 16, dtype: object\n"
     ]
    },
    {
     "data": {
      "image/png": "[encoded data removed]",
      "text/plain": [
       "<matplotlib.figure.Figure at 0x11f0196d8>"
      ]
     },
     "metadata": {},
     "output_type": "display_data"
    }
   ],
   "source": [
    "first = []\n",
    "for idx in FivesoftmaxProbabilities[1][0]:\n",
    "    first = np.append(first, firstTrainDataForEachClass.iloc[idx].values[0])\n",
    "    print(idx)\n",
    "first = first.astype(int)\n",
    "print(firstTrainDataForEachClass.iloc[0].values[0])\n",
    "\n",
    "print('Label for the sampled image:', correctLabels[0])\n",
    "\n",
    "fig, ax = plt.subplots(1, 5, figsize=[20, 20])\n",
    "print(labels.loc[16])\n",
    "sns.set_style(style='white')\n",
    "for idx, img_idx in enumerate(first):\n",
    "    ax[idx].imshow(sharpenImage(X_train[img_idx]))\n",
    "    label = labels.loc[FivesoftmaxProbabilities[1][0][idx]]\n",
    "    ax[idx].set_title(label[1], fontsize=16)\n",
    "plt.tight_layout()"
   ]
  },
  {
   "cell_type": "code",
   "execution_count": 50,
   "metadata": {
    "collapsed": false,
    "deletable": true,
    "editable": true
   },
   "outputs": [
    {
     "name": "stdout",
     "output_type": "stream",
     "text": [
      "Label for the sampled image: Right-of-way at the next intersection\n"
     ]
    },
    {
     "data": {
      "image/png": "[encoded data removed]",
      "text/plain": [
       "<matplotlib.figure.Figure at 0x1480157b8>"
      ]
     },
     "metadata": {},
     "output_type": "display_data"
    }
   ],
   "source": [
    "first = []\n",
    "for idx in FivesoftmaxProbabilities[1][1]:\n",
    "    first = np.append(first, firstTrainDataForEachClass.iloc[idx].values[0])\n",
    "first = first.astype(int)\n",
    "\n",
    "print('Label for the sampled image:', correctLabels[1])\n",
    "\n",
    "fig, ax = plt.subplots(1, 5, figsize=[20, 20])\n",
    "\n",
    "sns.set_style(style='white')\n",
    "for idx, img_idx in enumerate(first):\n",
    "    ax[idx].imshow(sharpenImage(X_train[img_idx]))\n",
    "    label = labels.loc[FivesoftmaxProbabilities[1][1][idx]]\n",
    "    ax[idx].set_title(label[1], fontsize=16)\n",
    "plt.tight_layout()"
   ]
  },
  {
   "cell_type": "code",
   "execution_count": null,
   "metadata": {
    "collapsed": false,
    "deletable": true,
    "editable": true
   },
   "outputs": [],
   "source": [
    "first = []\n",
    "for idx in FivesoftmaxProbabilities[1][2]:\n",
    "    first = np.append(first, firstTrainDataForEachClass.iloc[idx].values[0])\n",
    "first = first.astype(int)\n",
    "\n",
    "print('Label for the sampled image:', correctLabels[2])\n",
    "\n",
    "fig, ax = plt.subplots(1, 5, figsize=[20, 20])\n",
    "\n",
    "sns.set_style(style='white')\n",
    "for idx, img_idx in enumerate(first):\n",
    "    ax[idx].imshow(sharpenImage(enhanceContrastOfImage(X_train[img_idx])))\n",
    "    label = labels.loc[FivesoftmaxProbabilities[1][2][idx]]\n",
    "    ax[idx].set_title(label[1], fontsize=20)\n",
    "plt.tight_layout()"
   ]
  },
  {
   "cell_type": "code",
   "execution_count": null,
   "metadata": {
    "collapsed": false,
    "deletable": true,
    "editable": true
   },
   "outputs": [],
   "source": [
    "first = []\n",
    "for idx in FivesoftmaxProbabilities[1][3]:\n",
    "    first = np.append(first, firstTrainDataForEachClass.iloc[idx].values[0])\n",
    "first = first.astype(int)\n",
    "\n",
    "print('Label for the sampled image:', correctLabels[3])\n",
    "\n",
    "fig, ax = plt.subplots(1, 5, figsize=[20, 20])\n",
    "\n",
    "sns.set_style(style='white')\n",
    "for idx, img_idx in enumerate(first):\n",
    "    ax[idx].imshow(sharpenImage(enhanceContrastOfImage(X_train[img_idx])))\n",
    "    label = labels.loc[FivesoftmaxProbabilities[1][3][idx]]\n",
    "    ax[idx].set_title(label[1], fontsize=20)\n",
    "plt.tight_layout()"
   ]
  },
  {
   "cell_type": "code",
   "execution_count": null,
   "metadata": {
    "collapsed": false,
    "deletable": true,
    "editable": true
   },
   "outputs": [],
   "source": [
    "first = []\n",
    "for idx in FivesoftmaxProbabilities[1][4]:\n",
    "    first = np.append(first, firstTrainDataForEachClass.iloc[idx].values[0])\n",
    "first = first.astype(int)\n",
    "\n",
    "print('Label for the sampled image:', correctLabels[4])\n",
    "\n",
    "fig, ax = plt.subplots(1, 5, figsize=[20, 20])\n",
    "\n",
    "sns.set_style(style='white')\n",
    "for idx, img_idx in enumerate(first):\n",
    "    ax[idx].imshow(sharpenImage(enhanceContrastOfImage(X_train[img_idx])))\n",
    "    label = labels.loc[FivesoftmaxProbabilities[1][4][idx]]\n",
    "    ax[idx].set_title(label[1], fontsize=20)\n",
    "plt.tight_layout()"
   ]
  },
  {
   "cell_type": "markdown",
   "metadata": {
    "deletable": true,
    "editable": true
   },
   "source": [
    "### Project Writeup\n",
    "\n",
    "Once you have completed the code implementation, document your results in a project writeup using this [template](https://github.com/udacity/CarND-Traffic-Sign-Classifier-Project/blob/master/writeup_template.md) as a guide. The writeup can be in a markdown or pdf file. "
   ]
  },
  {
   "cell_type": "markdown",
   "metadata": {
    "deletable": true,
    "editable": true
   },
   "source": [
    "> **Note**: Once you have completed all of the code implementations and successfully answered each question above, you may finalize your work by exporting the iPython Notebook as an HTML document. You can do this by using the menu above and navigating to  \\n\",\n",
    "    \"**File -> Download as -> HTML (.html)**. Include the finished document along with this notebook as your submission."
   ]
  },
  {
   "cell_type": "markdown",
   "metadata": {
    "deletable": true,
    "editable": true
   },
   "source": [
    "---\n",
    "\n",
    "## Step 4 (Optional): Visualize the Neural Network's State with Test Images\n",
    "\n",
    " This Section is not required to complete but acts as an additional excersise for understaning the output of a neural network's weights. While neural networks can be a great learning device they are often referred to as a black box. We can understand what the weights of a neural network look like better by plotting their feature maps. After successfully training your neural network you can see what it's feature maps look like by plotting the output of the network's weight layers in response to a test stimuli image. From these plotted feature maps, it's possible to see what characteristics of an image the network finds interesting. For a sign, maybe the inner network feature maps react with high activation to the sign's boundary outline or to the contrast in the sign's painted symbol.\n",
    "\n",
    " Provided for you below is the function code that allows you to get the visualization output of any tensorflow weight layer you want. The inputs to the function should be a stimuli image, one used during training or a new one you provided, and then the tensorflow variable name that represents the layer's state during the training process, for instance if you wanted to see what the [LeNet lab's](https://classroom.udacity.com/nanodegrees/nd013/parts/fbf77062-5703-404e-b60c-95b78b2f3f9e/modules/6df7ae49-c61c-4bb2-a23e-6527e69209ec/lessons/601ae704-1035-4287-8b11-e2c2716217ad/concepts/d4aca031-508f-4e0b-b493-e7b706120f81) feature maps looked like for it's second convolutional layer you could enter conv2 as the tf_activation variable.\n",
    "\n",
    "For an example of what feature map outputs look like, check out NVIDIA's results in their paper [End-to-End Deep Learning for Self-Driving Cars](https://devblogs.nvidia.com/parallelforall/deep-learning-self-driving-cars/) in the section Visualization of internal CNN State. NVIDIA was able to show that their network's inner weights had high activations to road boundary lines by comparing feature maps from an image with a clear path to one without. Try experimenting with a similar test to show that your trained network's weights are looking for interesting features, whether it's looking at differences in feature maps from images with or without a sign, or even what feature maps look like in a trained network vs a completely untrained one on the same sign image.\n",
    "\n",
    "<figure>\n",
    " <img src=\"visualize_cnn.png\" width=\"380\" alt=\"Combined Image\" />\n",
    " <figcaption>\n",
    " <p></p> \n",
    " <p style=\"text-align: center;\"> Your output should look something like this (above)</p> \n",
    " </figcaption>\n",
    "</figure>\n",
    " <p></p> \n"
   ]
  },
  {
   "cell_type": "code",
   "execution_count": null,
   "metadata": {
    "collapsed": true,
    "deletable": true,
    "editable": true
   },
   "outputs": [],
   "source": [
    "### Visualize your network's feature maps here.\n",
    "### Feel free to use as many code cells as needed.\n",
    "\n",
    "# image_input: the test image being fed into the network to produce the feature maps\n",
    "# tf_activation: should be a tf variable name used during your training procedure that represents the calculated state of a specific weight layer\n",
    "# activation_min/max: can be used to view the activation contrast in more detail, by default matplot sets min and max to the actual min and max values of the output\n",
    "# plt_num: used to plot out multiple different weight feature map sets on the same block, just extend the plt number for each new feature map entry\n",
    "\n",
    "def outputFeatureMap(image_input, tf_activation, activation_min=-1, activation_max=-1 ,plt_num=1):\n",
    "    # Here make sure to preprocess your image_input in a way your network expects\n",
    "    # with size, normalization, ect if needed\n",
    "    # image_input =\n",
    "    # Note: x should be the same name as your network's tensorflow data placeholder variable\n",
    "    # If you get an error tf_activation is not defined it may be having trouble accessing the variable from inside a function\n",
    "    activation = tf_activation.eval(session=sess,feed_dict={x : image_input})\n",
    "    featuremaps = activation.shape[3]\n",
    "    plt.figure(plt_num, figsize=(15,15))\n",
    "    for featuremap in range(featuremaps):\n",
    "        plt.subplot(6,8, featuremap+1) # sets the number of feature maps to show on each row and column\n",
    "        plt.title('FeatureMap ' + str(featuremap)) # displays the feature map number\n",
    "        if activation_min != -1 & activation_max != -1:\n",
    "            plt.imshow(activation[0,:,:, featuremap], interpolation=\"nearest\", vmin =activation_min, vmax=activation_max, cmap=\"gray\")\n",
    "        elif activation_max != -1:\n",
    "            plt.imshow(activation[0,:,:, featuremap], interpolation=\"nearest\", vmax=activation_max, cmap=\"gray\")\n",
    "        elif activation_min !=-1:\n",
    "            plt.imshow(activation[0,:,:, featuremap], interpolation=\"nearest\", vmin=activation_min, cmap=\"gray\")\n",
    "        else:\n",
    "            plt.imshow(activation[0,:,:, featuremap], interpolation=\"nearest\", cmap=\"gray\")"
   ]
  }
 ],
 "metadata": {
  "anaconda-cloud": {},
  "kernelspec": {
   "display_name": "Python [default]",
   "language": "python",
   "name": "python3"
  },
  "language_info": {
   "codemirror_mode": {
    "name": "ipython",
    "version": 3
   },
   "file_extension": ".py",
   "mimetype": "text/x-python",
   "name": "python",
   "nbconvert_exporter": "python",
   "pygments_lexer": "ipython3",
   "version": "3.5.2"
  }
 },
 "nbformat": 4,
 "nbformat_minor": 1
}
