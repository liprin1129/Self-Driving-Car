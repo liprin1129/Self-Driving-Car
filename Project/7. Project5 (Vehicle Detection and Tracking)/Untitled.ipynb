{
 "cells": [
  {
   "cell_type": "markdown",
   "metadata": {},
   "source": [
    "# Step 1: make a list of images to read in"
   ]
  },
  {
   "cell_type": "code",
   "execution_count": 3,
   "metadata": {},
   "outputs": [
    {
     "name": "stdout",
     "output_type": "stream",
     "text": [
      "Number of Vehicle Images found: 8792\n",
      "Number of Non-Vehicle Images found: 8968\n"
     ]
    }
   ],
   "source": [
    "import glob\n",
    "import os\n",
    "\n",
    "basedir = 'vehicles/'\n",
    "\n",
    "image_types = os.listdir(basedir)\n",
    "cars = []\n",
    "for imtype in image_types:\n",
    "    cars.extend(glob.glob(basedir+imtype+'/*'))\n",
    "    \n",
    "print('Number of Vehicle Images found:', len(cars))\n",
    "with open('cars.txt', 'w') as f:\n",
    "    for fn in cars:\n",
    "        f.write(fn+'\\n')\n",
    "        \n",
    "basedir = 'non-vehicles/'\n",
    "\n",
    "image_types = os.listdir(basedir)\n",
    "cars = []\n",
    "for imtype in image_types:\n",
    "    cars.extend(glob.glob(basedir+imtype+'/*'))\n",
    "    \n",
    "print('Number of Non-Vehicle Images found:', len(cars))\n",
    "with open('cars.txt', 'w') as f:\n",
    "    for fn in cars:\n",
    "        f.write(fn+'\\n')"
   ]
  },
  {
   "cell_type": "code",
   "execution_count": 8,
   "metadata": {},
   "outputs": [],
   "source": [
    "import matplotlib.image as mpimg\n",
    "import matplotlib.pyplot as plt\n",
    "import numpy as np\n",
    "import cv2\n",
    "import time\n",
    "from skimage.feature import hog\n",
    "from sklearn.svm import LinearSVC\n",
    "from sklearn.preprocessing import StandardScaler\n",
    "# from sklearn.model_selectionl import train_test_split\n",
    "# NOTE: the last import is only valid for scikit-learn version >= 0.18\n",
    "# for scikit-learn <= 0.18 use:\n",
    "from sklearn.cross_validation import train_test_split"
   ]
  },
  {
   "cell_type": "code",
   "execution_count": null,
   "metadata": {
    "collapsed": true
   },
   "outputs": [],
   "source": [
    "def get_hog_features(img, orient, pix_per_cell, cell_per_block, \n",
    "                        vis=False, feature_vec=True):\n",
    "    # Call with two outputs if vis==True\n",
    "    if vis == True:\n",
    "        features, hog_image = hog(img, orientations=orient, \n",
    "                                  pixels_per_cell=(pix_per_cell, pix_per_cell),\n",
    "                                  cells_per_block=(cell_per_block, cell_per_block), \n",
    "                                  transform_sqrt=True, \n",
    "                                  visualise=vis, feature_vector=feature_vec)\n",
    "        return features, hog_image\n",
    "    # Otherwise call with one output\n",
    "    else:      \n",
    "        features = hog(img, orientations=orient, \n",
    "                       pixels_per_cell=(pix_per_cell, pix_per_cell),\n",
    "                       cells_per_block=(cell_per_block, cell_per_block), \n",
    "                       transform_sqrt=True, \n",
    "                       visualise=vis, feature_vector=feature_vec)\n",
    "        return features\n",
    "    \n"
   ]
  }
 ],
 "metadata": {
  "anaconda-cloud": {},
  "kernelspec": {
   "display_name": "Python [conda root]",
   "language": "python",
   "name": "conda-root-py"
  },
  "language_info": {
   "codemirror_mode": {
    "name": "ipython",
    "version": 3
   },
   "file_extension": ".py",
   "mimetype": "text/x-python",
   "name": "python",
   "nbconvert_exporter": "python",
   "pygments_lexer": "ipython3",
   "version": "3.5.2"
  }
 },
 "nbformat": 4,
 "nbformat_minor": 2
}
