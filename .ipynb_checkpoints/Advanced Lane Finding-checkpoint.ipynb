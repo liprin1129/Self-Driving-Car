{
 "cells": [
  {
   "cell_type": "markdown",
   "metadata": {},
   "source": [
    "# Table of contents\n",
    "1. [Distortion](#distortion)"
   ]
  },
  {
   "cell_type": "markdown",
   "metadata": {},
   "source": [
    "# 1. Distortion <a name='distortion'></a>\n",
    "\n",
    "Image distortion occurs when a camera looks at 3D objects in the real world and transforms them into a 2D image; this transformation isn’t perfect. Distortion actually changes what the shape and size of these 3D objects appear to be. So, the first step in analyzing camera images, is to undo this distortion so that you can get correct and useful information out of them.\n",
    "\n",
    "__Quize: Why is it important to correct for image distortion?__\n",
    "- Distortion can change the apparent size of an object in an image.\n",
    "- Distortion can change the apparent shape of an object in an image.\n",
    "- Distortion can cause an object's appearance to change depending on where it is in the field of view.\n",
    "- Distortion can make objects appear closer or farther away than they actually are.\n",
    "\n",
    "\n",
    "### 1.1. Types of Distortion\n",
    "\n",
    "Real cameras use curved lenses to form an image, and light rays often bend a little too much or too little at the edges of these lenses. This creates an effect that distorts the edges of images, so that lines or objects appear more or less curved than they actually are. This is called __radial distortion__, and it’s the most common type of distortion.\n",
    "\n",
    "Another type of distortion, is __tangential distortion__. This occurs when a camera’s lens is not aligned perfectly parallel to the imaging plane, where the camera film or sensor is. This makes an image look tilted so that some objects appear farther away or closer than they actually are.\n",
    "\n",
    "### 1.2. Distortion Coefficients and Correction\n",
    "\n",
    "There are three coefficients needed to correct for __radial distortion__: $k1$, $k2$, and $k3$. To correct the appearance of radially distorted points in an image, one can use a correction formula.\n",
    "\n",
    "In the following equations, $(x,y)$ is a point in a distorted image. To undistort these points, OpenCV calculates $r$, which is the known distance between a point in an undistorted (corrected) image $(x_{corrected},y_{corrected})$ and the center of the image distortion, which is often the center of that image $(x_c,y_c)$. This center point $(x_c,y_c)$ is sometimes referred to as the distortion center. These points are pictured below.\n",
    "\n",
    "Note: The distortion coefficient $k3$ is required to accurately reflect _major_ radial distortion (like in wide angle lenses). However, for minor radial distortion, which most regular camera lenses have, k3 has a value close to or equal to zero and is negligible. So, in OpenCV, you can choose to ignore this coefficient; this is why it appears at the end of the distortion values array: $[k1, k2, p1, p2, k3]$. In this course, we will use it in all calibration calculations so that our calculations apply to a wider variety of lenses (wider, like wide angle, haha) and can correct for both minor and major radial distortion."
   ]
  }
 ],
 "metadata": {
  "anaconda-cloud": {},
  "kernelspec": {
   "display_name": "Python [conda root]",
   "language": "python",
   "name": "conda-root-py"
  },
  "language_info": {
   "codemirror_mode": {
    "name": "ipython",
    "version": 3
   },
   "file_extension": ".py",
   "mimetype": "text/x-python",
   "name": "python",
   "nbconvert_exporter": "python",
   "pygments_lexer": "ipython3",
   "version": "3.5.2"
  }
 },
 "nbformat": 4,
 "nbformat_minor": 2
}
