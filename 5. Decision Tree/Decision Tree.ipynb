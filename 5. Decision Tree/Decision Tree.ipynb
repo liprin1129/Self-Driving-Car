{
 "cells": [
  {
   "cell_type": "markdown",
   "metadata": {},
   "source": [
    "Decision trees use a trick to do non-linear decision making with simple, linear decision surfaces.\n",
    "\n",
    "__Quiz: Is the data linearly separable?__\n",
    "<img src='./Figures/1. Linearly Separable Data.png' width=150>\n",
    "\n",
    "__Answer:__\n",
    "We won't find the line in this space to tell these datas apart, so It's obviously not linearly separate."
   ]
  },
  {
   "cell_type": "markdown",
   "metadata": {},
   "source": [
    "# Data Inpurity And Entropy\n",
    "\n",
    "Entropy controls how a Decision Tree decides where to split the data, by measuring of impurity in a bunch of examples.\n",
    "\n",
    "$$\n",
    "\\text{Entropy} = - \\sum_i p_i \\cdot log_2 (p_i)\n",
    "$$"
   ]
  },
  {
   "cell_type": "markdown",
   "metadata": {},
   "source": [
    "# Information Gain\n",
    "\n",
    "$$\n",
    "\\text{Information gain}=\\text{Entropy}(\\text{parent}) - [\\text{Weighted Average}]\\text{Entropy}(\\text{children})\n",
    "$$\n",
    "\n",
    "Decision Tree Algorithm : __Maximize information gain__"
   ]
  },
  {
   "cell_type": "code",
   "execution_count": 2,
   "metadata": {
    "collapsed": false
   },
   "outputs": [
    {
     "data": {
      "text/plain": [
       "0.9182958340544896"
      ]
     },
     "execution_count": 2,
     "metadata": {},
     "output_type": "execute_result"
    }
   ],
   "source": [
    "import math\n",
    "-2/3 * math.log(2/3, 2) -1/3 * math.log(1/3, 2)"
   ]
  }
 ],
 "metadata": {
  "kernelspec": {
   "display_name": "Python 3",
   "language": "python",
   "name": "python3"
  },
  "language_info": {
   "codemirror_mode": {
    "name": "ipython",
    "version": 3
   },
   "file_extension": ".py",
   "mimetype": "text/x-python",
   "name": "python",
   "nbconvert_exporter": "python",
   "pygments_lexer": "ipython3",
   "version": "3.5.2"
  }
 },
 "nbformat": 4,
 "nbformat_minor": 2
}
